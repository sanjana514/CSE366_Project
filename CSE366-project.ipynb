{
 "cells": [
  {
   "cell_type": "markdown",
   "id": "fa9f5534",
   "metadata": {
    "papermill": {
     "duration": 0.002053,
     "end_time": "2025-05-10T10:15:22.445895",
     "exception": false,
     "start_time": "2025-05-10T10:15:22.443842",
     "status": "completed"
    },
    "tags": []
   },
   "source": [
    "## Organized Plant Disease Dataset by Category and Disease Type"
   ]
  },
  {
   "cell_type": "code",
   "execution_count": 1,
   "id": "4c8583bb",
   "metadata": {
    "execution": {
     "iopub.execute_input": "2025-05-10T10:15:22.450626Z",
     "iopub.status.busy": "2025-05-10T10:15:22.450368Z",
     "iopub.status.idle": "2025-05-10T10:16:10.649010Z",
     "shell.execute_reply": "2025-05-10T10:16:10.648239Z"
    },
    "papermill": {
     "duration": 48.203638,
     "end_time": "2025-05-10T10:16:10.651409",
     "exception": false,
     "start_time": "2025-05-10T10:15:22.447771",
     "status": "completed"
    },
    "tags": []
   },
   "outputs": [
    {
     "name": "stdout",
     "output_type": "stream",
     "text": [
      "\n",
      "Dataset organization complete!\n"
     ]
    }
   ],
   "source": [
    "import os\n",
    "import shutil\n",
    "from pathlib import Path\n",
    "import matplotlib.pyplot as plt\n",
    "\n",
    "# Define the root directory of the current dataset\n",
    "root_dir = \"/kaggle/input/project/project\"\n",
    "\n",
    "# Define the new output directory\n",
    "output_dir = \"organized_dataset\"\n",
    "\n",
    "# Define categories and their corresponding diseases (with spaces)\n",
    "categories = {\n",
    "    \"Fresh_leaf\": [\"Fresh leaf\", \"Eggplant fresh leaf\", \"Tomato Fresh leaf\"],\n",
    "    \"Bacterial\": [\"Tomato Bacterial spot\", \"Black Rot\"],\n",
    "    \"Viral\": [\"Mosaic virus\", \"Tomato leaf curl virus\", \"Eggplant begomovirus\", \"Tomato spotted wilt\"],\n",
    "    \"Fungal\": [\"Downey mildew\",\"Downy mildew\",\"Fusarium wilt\", \"Anthracnose\", \"Eggplant Cercopora leaf spot\", \"Eggplant verticillium wilt\", \"Anthracnose lesions\"]\n",
    "}\n",
    "\n",
    "# Create the new directory structure\n",
    "Path(output_dir).mkdir(exist_ok=True)\n",
    "for category in categories:\n",
    "    Path(os.path.join(output_dir, category)).mkdir(exist_ok=True)\n",
    "\n",
    "# Initialize a dictionary to count images per category\n",
    "image_counts = {category: 0 for category in categories}\n",
    "\n",
    "# Function to get category for a given folder\n",
    "def get_category(folder_name):\n",
    "    for category, folders in categories.items():\n",
    "        if folder_name in folders:\n",
    "            return category\n",
    "    raise ValueError(f\"Folder {folder_name} not found in any category!\")\n",
    "\n",
    "# Walk through the current dataset\n",
    "for crop_folder in os.listdir(root_dir):\n",
    "    crop_path = os.path.join(root_dir, crop_folder)\n",
    "    if not os.path.isdir(crop_path):\n",
    "        continue\n",
    "    \n",
    "    for disease_folder in os.listdir(crop_path):\n",
    "        disease_path = os.path.join(crop_path, disease_folder)\n",
    "        if not os.path.isdir(disease_path):\n",
    "            continue\n",
    "        \n",
    "        # Determine the category for the disease\n",
    "        try:\n",
    "            category = get_category(disease_folder)\n",
    "        except ValueError as e:\n",
    "            print(e)\n",
    "            continue\n",
    "        \n",
    "        # Process each image in the disease folder\n",
    "        for image_name in os.listdir(disease_path):\n",
    "            image_path = os.path.join(disease_path, image_name)\n",
    "            if not os.path.isfile(image_path):\n",
    "                continue\n",
    "            \n",
    "            # Create new image name: Crop_Disease_ImageName (replace spaces with underscores)\n",
    "            new_image_name = f\"{crop_folder}_{disease_folder.replace(' ', '_')}_{image_name}\"\n",
    "            destination_path = os.path.join(output_dir, category, new_image_name)\n",
    "            \n",
    "            # Copy the image to the new location\n",
    "            shutil.copy2(image_path, destination_path)\n",
    "            image_counts[category] += 1\n",
    "\n",
    "print(\"\\nDataset organization complete!\")"
   ]
  },
  {
   "cell_type": "markdown",
   "id": "3aba27df",
   "metadata": {
    "papermill": {
     "duration": 0.00129,
     "end_time": "2025-05-10T10:16:10.654343",
     "exception": false,
     "start_time": "2025-05-10T10:16:10.653053",
     "status": "completed"
    },
    "tags": []
   },
   "source": [
    "## Total Images and Folder-wise Distribution Overview"
   ]
  },
  {
   "cell_type": "code",
   "execution_count": 2,
   "id": "17db6698",
   "metadata": {
    "execution": {
     "iopub.execute_input": "2025-05-10T10:16:10.658029Z",
     "iopub.status.busy": "2025-05-10T10:16:10.657824Z",
     "iopub.status.idle": "2025-05-10T10:16:10.662012Z",
     "shell.execute_reply": "2025-05-10T10:16:10.661329Z"
    },
    "papermill": {
     "duration": 0.007359,
     "end_time": "2025-05-10T10:16:10.663118",
     "exception": false,
     "start_time": "2025-05-10T10:16:10.655759",
     "status": "completed"
    },
    "tags": []
   },
   "outputs": [
    {
     "name": "stdout",
     "output_type": "stream",
     "text": [
      "Image counts per category:\n",
      "Fresh_leaf: 3487 images\n",
      "Bacterial: 1149 images\n",
      "Viral: 2729 images\n",
      "Fungal: 5421 images\n",
      "\n",
      "Total images across all categories: 12786 images\n"
     ]
    }
   ],
   "source": [
    "# Calculate total images\n",
    "total_images = sum(image_counts.values())\n",
    "\n",
    "# Print image counts per category\n",
    "print(\"Image counts per category:\")\n",
    "for category, count in image_counts.items():\n",
    "    print(f\"{category}: {count} images\")\n",
    "print(f\"\\nTotal images across all categories: {total_images} images\")"
   ]
  },
  {
   "cell_type": "markdown",
   "id": "fd1f9296",
   "metadata": {
    "papermill": {
     "duration": 0.001328,
     "end_time": "2025-05-10T10:16:10.666009",
     "exception": false,
     "start_time": "2025-05-10T10:16:10.664681",
     "status": "completed"
    },
    "tags": []
   },
   "source": [
    "## Bar Chart Representation of Folder-wise Image Counts\n",
    "Display each category with the number of images for easy comparison."
   ]
  },
  {
   "cell_type": "code",
   "execution_count": 3,
   "id": "22ea896c",
   "metadata": {
    "execution": {
     "iopub.execute_input": "2025-05-10T10:16:10.669773Z",
     "iopub.status.busy": "2025-05-10T10:16:10.669594Z",
     "iopub.status.idle": "2025-05-10T10:16:10.997432Z",
     "shell.execute_reply": "2025-05-10T10:16:10.996700Z"
    },
    "papermill": {
     "duration": 0.331072,
     "end_time": "2025-05-10T10:16:10.998483",
     "exception": false,
     "start_time": "2025-05-10T10:16:10.667411",
     "status": "completed"
    },
    "tags": []
   },
   "outputs": [
    {
     "name": "stdout",
     "output_type": "stream",
     "text": [
      "\n",
      "Bar chart saved as 'image_count_plot.png'\n"
     ]
    },
    {
     "data": {
      "image/png": "[encoded data removed]",
      "text/plain": [
       "<Figure size 800x600 with 1 Axes>"
      ]
     },
     "metadata": {},
     "output_type": "display_data"
    }
   ],
   "source": [
    "# Create a bar chart for image counts\n",
    "plt.figure(figsize=(8, 6))\n",
    "plt.bar(image_counts.keys(), image_counts.values(), color='pink')\n",
    "plt.title(\"Image Count per Category\")\n",
    "plt.xlabel(\"Category\")\n",
    "plt.ylabel(\"Number of Images\")\n",
    "plt.xticks(rotation=45)\n",
    "plt.tight_layout()\n",
    "\n",
    "# Save the plot\n",
    "plt.savefig(\"image_count_plot.png\")\n",
    "print(\"\\nBar chart saved as 'image_count_plot.png'\")"
   ]
  }
 ],
 "metadata": {
  "kaggle": {
   "accelerator": "nvidiaTeslaT4",
   "dataSources": [
    {
     "datasetId": 7353383,
     "sourceId": 11714811,
     "sourceType": "datasetVersion"
    }
   ],
   "dockerImageVersionId": 31011,
   "isGpuEnabled": true,
   "isInternetEnabled": true,
   "language": "python",
   "sourceType": "notebook"
  },
  "kernelspec": {
   "display_name": "Python 3",
   "language": "python",
   "name": "python3"
  },
  "language_info": {
   "codemirror_mode": {
    "name": "ipython",
    "version": 3
   },
   "file_extension": ".py",
   "mimetype": "text/x-python",
   "name": "python",
   "nbconvert_exporter": "python",
   "pygments_lexer": "ipython3",
   "version": "3.11.11"
  },
  "papermill": {
   "default_parameters": {},
   "duration": 53.46074,
   "end_time": "2025-05-10T10:16:11.216647",
   "environment_variables": {},
   "exception": null,
   "input_path": "__notebook__.ipynb",
   "output_path": "__notebook__.ipynb",
   "parameters": {},
   "start_time": "2025-05-10T10:15:17.755907",
   "version": "2.6.0"
  }
 },
 "nbformat": 4,
 "nbformat_minor": 5
}
