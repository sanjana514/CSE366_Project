{
 "cells": [
  {
   "cell_type": "markdown",
   "id": "f6232df4",
   "metadata": {
    "papermill": {
     "duration": 0.005592,
     "end_time": "2025-05-12T15:32:59.784971",
     "exception": false,
     "start_time": "2025-05-12T15:32:59.779379",
     "status": "completed"
    },
    "tags": []
   },
   "source": [
    "## Organized Plant Disease Dataset by Category and Disease Type"
   ]
  },
  {
   "cell_type": "code",
   "execution_count": 1,
   "id": "04a7d849",
   "metadata": {
    "execution": {
     "iopub.execute_input": "2025-05-12T15:32:59.795223Z",
     "iopub.status.busy": "2025-05-12T15:32:59.795007Z",
     "iopub.status.idle": "2025-05-12T15:34:22.972633Z",
     "shell.execute_reply": "2025-05-12T15:34:22.971816Z"
    },
    "papermill": {
     "duration": 83.188122,
     "end_time": "2025-05-12T15:34:22.977876",
     "exception": false,
     "start_time": "2025-05-12T15:32:59.789754",
     "status": "completed"
    },
    "tags": []
   },
   "outputs": [
    {
     "name": "stdout",
     "output_type": "stream",
     "text": [
      "\n",
      " Dataset organization complete!\n"
     ]
    }
   ],
   "source": [
    "import os\n",
    "import shutil\n",
    "from pathlib import Path\n",
    "from natsort import natsorted\n",
    "\n",
    "# Define the root directory of the current dataset\n",
    "root_dir = \"/kaggle/input/project/project\"\n",
    "\n",
    "# Define the new output directory\n",
    "output_dir = \"/kaggle/working/organized_dataset\"\n",
    "\n",
    "# Define categories and their corresponding diseases (with spaces)\n",
    "categories = {\n",
    "    \"Fresh_leaf\": [\"Fresh leaf\", \"Eggplant fresh leaf\", \"Tomato Fresh leaf\"],\n",
    "    \"Bacterial\": [\"Tomato Bacterial spot\", \"Black Rot\"],\n",
    "    \"Viral\": [\"Mosaic virus\", \"Tomato leaf curl virus\", \"Eggplant begomovirus\", \"Tomato spotted wilt\"],\n",
    "    \"Fungal\": [\"Downey mildew\", \"Downy mildew\", \"Fusarium wilt\", \"Anthracnose\", \n",
    "               \"Eggplant Cercopora leaf spot\", \"Eggplant verticillium wilt\", \"Anthracnose lesions\"]\n",
    "}\n",
    "\n",
    "# If the folder already exists, remove it and create a new one\n",
    "if os.path.exists(output_dir):\n",
    "    shutil.rmtree(output_dir)\n",
    "os.makedirs(output_dir)\n",
    "\n",
    "# Create new category folders\n",
    "for category in categories:\n",
    "    Path(os.path.join(output_dir, category)).mkdir(parents=True, exist_ok=True)\n",
    "\n",
    "# Initialize a dictionary to count images per category\n",
    "image_counts = {category: 0 for category in categories}\n",
    "image_counters = {category: {} for category in categories}\n",
    "\n",
    "# Function to get category for a given folder\n",
    "def get_category(folder_name):\n",
    "    for category, folders in categories.items():\n",
    "        if folder_name in folders:\n",
    "            return category\n",
    "    raise ValueError(f\"Folder {folder_name} not found in any category!\")\n",
    "\n",
    "# Walk through the current dataset\n",
    "for crop_folder in os.listdir(root_dir):\n",
    "    crop_path = os.path.join(root_dir, crop_folder)\n",
    "    if not os.path.isdir(crop_path):\n",
    "        continue\n",
    "    \n",
    "    for disease_folder in os.listdir(crop_path):\n",
    "        disease_path = os.path.join(crop_path, disease_folder)\n",
    "        if not os.path.isdir(disease_path):\n",
    "            continue\n",
    "        \n",
    "        # Determine the category for the disease\n",
    "        try:\n",
    "            category = get_category(disease_folder)\n",
    "        except ValueError as e:\n",
    "            print(e)\n",
    "            continue\n",
    "        \n",
    "        # Initialize counter if not already done\n",
    "        if disease_folder not in image_counters[category]:\n",
    "            image_counters[category][disease_folder] = 1\n",
    "        \n",
    "        # Process each image in the disease folder (Natural Sort to maintain order)\n",
    "        image_files = natsorted(os.listdir(disease_path))\n",
    "        \n",
    "        for image_name in image_files:\n",
    "            image_path = os.path.join(disease_path, image_name)\n",
    "            if not os.path.isfile(image_path):\n",
    "                continue\n",
    "            \n",
    "            # New image name format: Crop_Disease_imgX.jpg\n",
    "            new_image_name = f\"{crop_folder.replace(' ', '_')}_{disease_folder.replace(' ', '_')}_img{image_counters[category][disease_folder]}.jpg\"\n",
    "            destination_path = os.path.join(output_dir, category, new_image_name)\n",
    "            \n",
    "            # Copy the image to the new location with the new name\n",
    "            shutil.copy2(image_path, destination_path)\n",
    "            image_counters[category][disease_folder] += 1\n",
    "            image_counts[category] += 1\n",
    "\n",
    "print(\"\\n Dataset organization complete!\")\n"
   ]
  },
  {
   "cell_type": "code",
   "execution_count": 2,
   "id": "ef2648cb",
   "metadata": {
    "execution": {
     "iopub.execute_input": "2025-05-12T15:34:22.988153Z",
     "iopub.status.busy": "2025-05-12T15:34:22.987919Z",
     "iopub.status.idle": "2025-05-12T15:34:23.104929Z",
     "shell.execute_reply": "2025-05-12T15:34:23.104096Z"
    },
    "papermill": {
     "duration": 0.123419,
     "end_time": "2025-05-12T15:34:23.106040",
     "exception": false,
     "start_time": "2025-05-12T15:34:22.982621",
     "status": "completed"
    },
    "tags": []
   },
   "outputs": [
    {
     "name": "stdout",
     "output_type": "stream",
     "text": [
      "First_5_items of Bacterial\n",
      "Cauliflower_Black_Rot_img1.jpg\n",
      "Cauliflower_Black_Rot_img2.jpg\n",
      "Cauliflower_Black_Rot_img3.jpg\n",
      "Cauliflower_Black_Rot_img4.jpg\n",
      "Cauliflower_Black_Rot_img5.jpg\n",
      "last_5_items Fresh leaf\n",
      "Tomato_Tomato_Fresh_leaf_img590.jpg\n",
      "Tomato_Tomato_Fresh_leaf_img591.jpg\n",
      "Tomato_Tomato_Fresh_leaf_img592.jpg\n",
      "Tomato_Tomato_Fresh_leaf_img593.jpg\n",
      "Tomato_Tomato_Fresh_leaf_img594.jpg\n",
      "Middle_5_items of Fungal\n",
      "Cauliflower_Downy_mildew_img352.jpg\n",
      "Cauliflower_Downy_mildew_img353.jpg\n",
      "Cauliflower_Downy_mildew_img354.jpg\n",
      "Cauliflower_Downy_mildew_img355.jpg\n",
      "Cauliflower_Downy_mildew_img356.jpg\n",
      "First_5_items of Viral\n",
      "Bitter_Gourd_Mosaic_virus_img1.jpg\n",
      "Bitter_Gourd_Mosaic_virus_img2.jpg\n",
      "Bitter_Gourd_Mosaic_virus_img3.jpg\n",
      "Bitter_Gourd_Mosaic_virus_img4.jpg\n",
      "Bitter_Gourd_Mosaic_virus_img5.jpg\n"
     ]
    }
   ],
   "source": [
    "import os\n",
    "from natsort import natsorted\n",
    "\n",
    "# Folder path for Bacterial\n",
    "folder_path = \"/kaggle/working/organized_dataset/Bacterial\"\n",
    "\n",
    "image_names = natsorted(os.listdir(folder_path))\n",
    "print(\"First_5_items of Bacterial\")\n",
    "for image_name in image_names[:5]:\n",
    "    print(image_name)\n",
    "\n",
    "folder_path = \"/kaggle/working/organized_dataset/Fresh_leaf\"\n",
    "\n",
    "image_names = natsorted(os.listdir(folder_path))\n",
    "print(\"last_5_items Fresh leaf\") \n",
    "for image_name in image_names[-5:]:\n",
    "    print(image_name)\n",
    "\n",
    "folder_path = \"/kaggle/working/organized_dataset/Fungal\"\n",
    "\n",
    "image_names = natsorted(os.listdir(folder_path))\n",
    "print(\"Middle_5_items of Fungal\")\n",
    "middle_5_items = image_names[len(image_names)//2 - 2 : len(image_names)//2 + 3]\n",
    "for image_name in middle_5_items:\n",
    "    print(image_name)\n",
    "\n",
    "folder_path = \"/kaggle/working/organized_dataset/Viral\"\n",
    "\n",
    "image_names = natsorted(os.listdir(folder_path))\n",
    "print(\"First_5_items of Viral\")\n",
    "for image_name in image_names[:5]:\n",
    "    print(image_name)"
   ]
  },
  {
   "cell_type": "markdown",
   "id": "8fefc281",
   "metadata": {
    "papermill": {
     "duration": 0.004543,
     "end_time": "2025-05-12T15:34:23.115357",
     "exception": false,
     "start_time": "2025-05-12T15:34:23.110814",
     "status": "completed"
    },
    "tags": []
   },
   "source": [
    "## Total Images and Folder-wise Distribution Overview"
   ]
  },
  {
   "cell_type": "code",
   "execution_count": 3,
   "id": "67c1929e",
   "metadata": {
    "execution": {
     "iopub.execute_input": "2025-05-12T15:34:23.125482Z",
     "iopub.status.busy": "2025-05-12T15:34:23.125086Z",
     "iopub.status.idle": "2025-05-12T15:34:23.129291Z",
     "shell.execute_reply": "2025-05-12T15:34:23.128588Z"
    },
    "papermill": {
     "duration": 0.010396,
     "end_time": "2025-05-12T15:34:23.130360",
     "exception": false,
     "start_time": "2025-05-12T15:34:23.119964",
     "status": "completed"
    },
    "tags": []
   },
   "outputs": [
    {
     "name": "stdout",
     "output_type": "stream",
     "text": [
      "Image counts per category:\n",
      "Fresh_leaf: 3487 images\n",
      "Bacterial: 1149 images\n",
      "Viral: 2729 images\n",
      "Fungal: 5421 images\n",
      "\n",
      "Total images across all categories: 12786 images\n"
     ]
    }
   ],
   "source": [
    "# Calculate total images\n",
    "total_images = sum(image_counts.values())\n",
    "\n",
    "# Print image counts per category\n",
    "print(\"Image counts per category:\")\n",
    "for category, count in image_counts.items():\n",
    "    print(f\"{category}: {count} images\")\n",
    "print(f\"\\nTotal images across all categories: {total_images} images\")"
   ]
  },
  {
   "cell_type": "markdown",
   "id": "94628178",
   "metadata": {
    "papermill": {
     "duration": 0.004687,
     "end_time": "2025-05-12T15:34:23.139829",
     "exception": false,
     "start_time": "2025-05-12T15:34:23.135142",
     "status": "completed"
    },
    "tags": []
   },
   "source": [
    "## Bar Chart Representation of Folder-wise Image Counts\n",
    "Display each category with the number of images for easy comparison."
   ]
  },
  {
   "cell_type": "code",
   "execution_count": 4,
   "id": "4fc689ae",
   "metadata": {
    "execution": {
     "iopub.execute_input": "2025-05-12T15:34:23.150035Z",
     "iopub.status.busy": "2025-05-12T15:34:23.149823Z",
     "iopub.status.idle": "2025-05-12T15:34:23.454554Z",
     "shell.execute_reply": "2025-05-12T15:34:23.453883Z"
    },
    "papermill": {
     "duration": 0.311087,
     "end_time": "2025-05-12T15:34:23.455592",
     "exception": false,
     "start_time": "2025-05-12T15:34:23.144505",
     "status": "completed"
    },
    "tags": []
   },
   "outputs": [
    {
     "name": "stdout",
     "output_type": "stream",
     "text": [
      "\n",
      "Bar chart saved as 'image_count_plot.png'\n"
     ]
    },
    {
     "data": {
      "image/png": "[encoded data removed]",
      "text/plain": [
       "<Figure size 800x600 with 1 Axes>"
      ]
     },
     "metadata": {},
     "output_type": "display_data"
    }
   ],
   "source": [
    "import matplotlib.pyplot as plt\n",
    "\n",
    "# Create a bar chart for image counts\n",
    "plt.figure(figsize=(8, 6))\n",
    "plt.bar(image_counts.keys(), image_counts.values(), color='skyblue')\n",
    "plt.title(\"Image Count per Category\")\n",
    "plt.xlabel(\"Category\")\n",
    "plt.ylabel(\"Number of Images\")\n",
    "plt.xticks(rotation=45)\n",
    "plt.tight_layout()\n",
    "\n",
    "# Save the plot\n",
    "plt.savefig(\"image_count_plot.png\")\n",
    "print(\"\\nBar chart saved as 'image_count_plot.png'\")"
   ]
  },
  {
   "cell_type": "code",
   "execution_count": 5,
   "id": "9083bb62",
   "metadata": {
    "execution": {
     "iopub.execute_input": "2025-05-12T15:34:23.467470Z",
     "iopub.status.busy": "2025-05-12T15:34:23.467104Z",
     "iopub.status.idle": "2025-05-12T15:36:26.597791Z",
     "shell.execute_reply": "2025-05-12T15:36:26.596994Z"
    },
    "papermill": {
     "duration": 123.138051,
     "end_time": "2025-05-12T15:36:26.599244",
     "exception": false,
     "start_time": "2025-05-12T15:34:23.461193",
     "status": "completed"
    },
    "tags": []
   },
   "outputs": [
    {
     "name": "stdout",
     "output_type": "stream",
     "text": [
      "Collecting git+https://github.com/jacobgil/pytorch-grad-cam.git\r\n",
      "  Cloning https://github.com/jacobgil/pytorch-grad-cam.git to /tmp/pip-req-build-e5o_t1tj\r\n",
      "  Running command git clone --filter=blob:none --quiet https://github.com/jacobgil/pytorch-grad-cam.git /tmp/pip-req-build-e5o_t1tj\r\n",
      "  Resolved https://github.com/jacobgil/pytorch-grad-cam.git to commit 781dbc0d16ffa95b6d18b96b7b829840a82d93d1\r\n",
      "  Installing build dependencies ... \u001b[?25l\u001b[?25hdone\r\n",
      "  Getting requirements to build wheel ... \u001b[?25l\u001b[?25hdone\r\n",
      "  Preparing metadata (pyproject.toml) ... \u001b[?25l\u001b[?25hdone\r\n",
      "Requirement already satisfied: numpy in /usr/local/lib/python3.11/dist-packages (from grad-cam==1.5.5) (1.26.4)\r\n",
      "Requirement already satisfied: Pillow in /usr/local/lib/python3.11/dist-packages (from grad-cam==1.5.5) (11.1.0)\r\n",
      "Requirement already satisfied: torch>=1.7.1 in /usr/local/lib/python3.11/dist-packages (from grad-cam==1.5.5) (2.5.1+cu124)\r\n",
      "Requirement already satisfied: torchvision>=0.8.2 in /usr/local/lib/python3.11/dist-packages (from grad-cam==1.5.5) (0.20.1+cu124)\r\n",
      "Collecting ttach (from grad-cam==1.5.5)\r\n",
      "  Downloading ttach-0.0.3-py3-none-any.whl.metadata (5.2 kB)\r\n",
      "Requirement already satisfied: tqdm in /usr/local/lib/python3.11/dist-packages (from grad-cam==1.5.5) (4.67.1)\r\n",
      "Requirement already satisfied: opencv-python in /usr/local/lib/python3.11/dist-packages (from grad-cam==1.5.5) (4.11.0.86)\r\n",
      "Requirement already satisfied: matplotlib in /usr/local/lib/python3.11/dist-packages (from grad-cam==1.5.5) (3.7.5)\r\n",
      "Requirement already satisfied: scikit-learn in /usr/local/lib/python3.11/dist-packages (from grad-cam==1.5.5) (1.2.2)\r\n",
      "Requirement already satisfied: filelock in /usr/local/lib/python3.11/dist-packages (from torch>=1.7.1->grad-cam==1.5.5) (3.18.0)\r\n",
      "Requirement already satisfied: typing-extensions>=4.8.0 in /usr/local/lib/python3.11/dist-packages (from torch>=1.7.1->grad-cam==1.5.5) (4.13.1)\r\n",
      "Requirement already satisfied: networkx in /usr/local/lib/python3.11/dist-packages (from torch>=1.7.1->grad-cam==1.5.5) (3.4.2)\r\n",
      "Requirement already satisfied: jinja2 in /usr/local/lib/python3.11/dist-packages (from torch>=1.7.1->grad-cam==1.5.5) (3.1.6)\r\n",
      "Requirement already satisfied: fsspec in /usr/local/lib/python3.11/dist-packages (from torch>=1.7.1->grad-cam==1.5.5) (2025.3.2)\r\n",
      "Requirement already satisfied: nvidia-cuda-nvrtc-cu12==12.4.127 in /usr/local/lib/python3.11/dist-packages (from torch>=1.7.1->grad-cam==1.5.5) (12.4.127)\r\n",
      "Requirement already satisfied: nvidia-cuda-runtime-cu12==12.4.127 in /usr/local/lib/python3.11/dist-packages (from torch>=1.7.1->grad-cam==1.5.5) (12.4.127)\r\n",
      "Requirement already satisfied: nvidia-cuda-cupti-cu12==12.4.127 in /usr/local/lib/python3.11/dist-packages (from torch>=1.7.1->grad-cam==1.5.5) (12.4.127)\r\n",
      "Collecting nvidia-cudnn-cu12==9.1.0.70 (from torch>=1.7.1->grad-cam==1.5.5)\r\n",
      "  Downloading nvidia_cudnn_cu12-9.1.0.70-py3-none-manylinux2014_x86_64.whl.metadata (1.6 kB)\r\n",
      "Collecting nvidia-cublas-cu12==12.4.5.8 (from torch>=1.7.1->grad-cam==1.5.5)\r\n",
      "  Downloading nvidia_cublas_cu12-12.4.5.8-py3-none-manylinux2014_x86_64.whl.metadata (1.5 kB)\r\n",
      "Collecting nvidia-cufft-cu12==11.2.1.3 (from torch>=1.7.1->grad-cam==1.5.5)\r\n",
      "  Downloading nvidia_cufft_cu12-11.2.1.3-py3-none-manylinux2014_x86_64.whl.metadata (1.5 kB)\r\n",
      "Collecting nvidia-curand-cu12==10.3.5.147 (from torch>=1.7.1->grad-cam==1.5.5)\r\n",
      "  Downloading nvidia_curand_cu12-10.3.5.147-py3-none-manylinux2014_x86_64.whl.metadata (1.5 kB)\r\n",
      "Collecting nvidia-cusolver-cu12==11.6.1.9 (from torch>=1.7.1->grad-cam==1.5.5)\r\n",
      "  Downloading nvidia_cusolver_cu12-11.6.1.9-py3-none-manylinux2014_x86_64.whl.metadata (1.6 kB)\r\n",
      "Collecting nvidia-cusparse-cu12==12.3.1.170 (from torch>=1.7.1->grad-cam==1.5.5)\r\n",
      "  Downloading nvidia_cusparse_cu12-12.3.1.170-py3-none-manylinux2014_x86_64.whl.metadata (1.6 kB)\r\n",
      "Requirement already satisfied: nvidia-nccl-cu12==2.21.5 in /usr/local/lib/python3.11/dist-packages (from torch>=1.7.1->grad-cam==1.5.5) (2.21.5)\r\n",
      "Requirement already satisfied: nvidia-nvtx-cu12==12.4.127 in /usr/local/lib/python3.11/dist-packages (from torch>=1.7.1->grad-cam==1.5.5) (12.4.127)\r\n",
      "Collecting nvidia-nvjitlink-cu12==12.4.127 (from torch>=1.7.1->grad-cam==1.5.5)\r\n",
      "  Downloading nvidia_nvjitlink_cu12-12.4.127-py3-none-manylinux2014_x86_64.whl.metadata (1.5 kB)\r\n",
      "Requirement already satisfied: triton==3.1.0 in /usr/local/lib/python3.11/dist-packages (from torch>=1.7.1->grad-cam==1.5.5) (3.1.0)\r\n",
      "Requirement already satisfied: sympy==1.13.1 in /usr/local/lib/python3.11/dist-packages (from torch>=1.7.1->grad-cam==1.5.5) (1.13.1)\r\n",
      "Requirement already satisfied: mpmath<1.4,>=1.1.0 in /usr/local/lib/python3.11/dist-packages (from sympy==1.13.1->torch>=1.7.1->grad-cam==1.5.5) (1.3.0)\r\n",
      "Requirement already satisfied: contourpy>=1.0.1 in /usr/local/lib/python3.11/dist-packages (from matplotlib->grad-cam==1.5.5) (1.3.1)\r\n",
      "Requirement already satisfied: cycler>=0.10 in /usr/local/lib/python3.11/dist-packages (from matplotlib->grad-cam==1.5.5) (0.12.1)\r\n",
      "Requirement already satisfied: fonttools>=4.22.0 in /usr/local/lib/python3.11/dist-packages (from matplotlib->grad-cam==1.5.5) (4.56.0)\r\n",
      "Requirement already satisfied: kiwisolver>=1.0.1 in /usr/local/lib/python3.11/dist-packages (from matplotlib->grad-cam==1.5.5) (1.4.8)\r\n",
      "Requirement already satisfied: packaging>=20.0 in /usr/local/lib/python3.11/dist-packages (from matplotlib->grad-cam==1.5.5) (24.2)\r\n",
      "Requirement already satisfied: pyparsing>=2.3.1 in /usr/local/lib/python3.11/dist-packages (from matplotlib->grad-cam==1.5.5) (3.2.1)\r\n",
      "Requirement already satisfied: python-dateutil>=2.7 in /usr/local/lib/python3.11/dist-packages (from matplotlib->grad-cam==1.5.5) (2.9.0.post0)\r\n",
      "Requirement already satisfied: mkl_fft in /usr/local/lib/python3.11/dist-packages (from numpy->grad-cam==1.5.5) (1.3.8)\r\n",
      "Requirement already satisfied: mkl_random in /usr/local/lib/python3.11/dist-packages (from numpy->grad-cam==1.5.5) (1.2.4)\r\n",
      "Requirement already satisfied: mkl_umath in /usr/local/lib/python3.11/dist-packages (from numpy->grad-cam==1.5.5) (0.1.1)\r\n",
      "Requirement already satisfied: mkl in /usr/local/lib/python3.11/dist-packages (from numpy->grad-cam==1.5.5) (2025.1.0)\r\n",
      "Requirement already satisfied: tbb4py in /usr/local/lib/python3.11/dist-packages (from numpy->grad-cam==1.5.5) (2022.1.0)\r\n",
      "Requirement already satisfied: mkl-service in /usr/local/lib/python3.11/dist-packages (from numpy->grad-cam==1.5.5) (2.4.1)\r\n",
      "Requirement already satisfied: scipy>=1.3.2 in /usr/local/lib/python3.11/dist-packages (from scikit-learn->grad-cam==1.5.5) (1.15.2)\r\n",
      "Requirement already satisfied: joblib>=1.1.1 in /usr/local/lib/python3.11/dist-packages (from scikit-learn->grad-cam==1.5.5) (1.4.2)\r\n",
      "Requirement already satisfied: threadpoolctl>=2.0.0 in /usr/local/lib/python3.11/dist-packages (from scikit-learn->grad-cam==1.5.5) (3.6.0)\r\n",
      "Requirement already satisfied: six>=1.5 in /usr/local/lib/python3.11/dist-packages (from python-dateutil>=2.7->matplotlib->grad-cam==1.5.5) (1.17.0)\r\n",
      "Requirement already satisfied: MarkupSafe>=2.0 in /usr/local/lib/python3.11/dist-packages (from jinja2->torch>=1.7.1->grad-cam==1.5.5) (3.0.2)\r\n",
      "Requirement already satisfied: intel-openmp<2026,>=2024 in /usr/local/lib/python3.11/dist-packages (from mkl->numpy->grad-cam==1.5.5) (2024.2.0)\r\n",
      "Requirement already satisfied: tbb==2022.* in /usr/local/lib/python3.11/dist-packages (from mkl->numpy->grad-cam==1.5.5) (2022.1.0)\r\n",
      "Requirement already satisfied: tcmlib==1.* in /usr/local/lib/python3.11/dist-packages (from tbb==2022.*->mkl->numpy->grad-cam==1.5.5) (1.2.0)\r\n",
      "Requirement already satisfied: intel-cmplr-lib-rt in /usr/local/lib/python3.11/dist-packages (from mkl_umath->numpy->grad-cam==1.5.5) (2024.2.0)\r\n",
      "Requirement already satisfied: intel-cmplr-lib-ur==2024.2.0 in /usr/local/lib/python3.11/dist-packages (from intel-openmp<2026,>=2024->mkl->numpy->grad-cam==1.5.5) (2024.2.0)\r\n",
      "Downloading nvidia_cublas_cu12-12.4.5.8-py3-none-manylinux2014_x86_64.whl (363.4 MB)\r\n",
      "\u001b[2K   \u001b[90m━━━━━━━━━━━━━━━━━━━━━━━━━━━━━━━━━━━━━━━━\u001b[0m \u001b[32m363.4/363.4 MB\u001b[0m \u001b[31m4.5 MB/s\u001b[0m eta \u001b[36m0:00:00\u001b[0m\r\n",
      "\u001b[?25hDownloading nvidia_cudnn_cu12-9.1.0.70-py3-none-manylinux2014_x86_64.whl (664.8 MB)\r\n",
      "\u001b[2K   \u001b[90m━━━━━━━━━━━━━━━━━━━━━━━━━━━━━━━━━━━━━━━━\u001b[0m \u001b[32m664.8/664.8 MB\u001b[0m \u001b[31m2.5 MB/s\u001b[0m eta \u001b[36m0:00:00\u001b[0m\r\n",
      "\u001b[?25hDownloading nvidia_cufft_cu12-11.2.1.3-py3-none-manylinux2014_x86_64.whl (211.5 MB)\r\n",
      "\u001b[2K   \u001b[90m━━━━━━━━━━━━━━━━━━━━━━━━━━━━━━━━━━━━━━━━\u001b[0m \u001b[32m211.5/211.5 MB\u001b[0m \u001b[31m6.7 MB/s\u001b[0m eta \u001b[36m0:00:00\u001b[0m\r\n",
      "\u001b[?25hDownloading nvidia_curand_cu12-10.3.5.147-py3-none-manylinux2014_x86_64.whl (56.3 MB)\r\n",
      "\u001b[2K   \u001b[90m━━━━━━━━━━━━━━━━━━━━━━━━━━━━━━━━━━━━━━━━\u001b[0m \u001b[32m56.3/56.3 MB\u001b[0m \u001b[31m8.7 MB/s\u001b[0m eta \u001b[36m0:00:00\u001b[0m\r\n",
      "\u001b[?25hDownloading nvidia_cusolver_cu12-11.6.1.9-py3-none-manylinux2014_x86_64.whl (127.9 MB)\r\n",
      "\u001b[2K   \u001b[90m━━━━━━━━━━━━━━━━━━━━━━━━━━━━━━━━━━━━━━━━\u001b[0m \u001b[32m127.9/127.9 MB\u001b[0m \u001b[31m3.9 MB/s\u001b[0m eta \u001b[36m0:00:00\u001b[0m\r\n",
      "\u001b[?25hDownloading nvidia_cusparse_cu12-12.3.1.170-py3-none-manylinux2014_x86_64.whl (207.5 MB)\r\n",
      "\u001b[2K   \u001b[90m━━━━━━━━━━━━━━━━━━━━━━━━━━━━━━━━━━━━━━━━\u001b[0m \u001b[32m207.5/207.5 MB\u001b[0m \u001b[31m3.4 MB/s\u001b[0m eta \u001b[36m0:00:00\u001b[0m\r\n",
      "\u001b[?25hDownloading nvidia_nvjitlink_cu12-12.4.127-py3-none-manylinux2014_x86_64.whl (21.1 MB)\r\n",
      "\u001b[2K   \u001b[90m━━━━━━━━━━━━━━━━━━━━━━━━━━━━━━━━━━━━━━━━\u001b[0m \u001b[32m21.1/21.1 MB\u001b[0m \u001b[31m8.0 MB/s\u001b[0m eta \u001b[36m0:00:00\u001b[0m\r\n",
      "\u001b[?25hDownloading ttach-0.0.3-py3-none-any.whl (9.8 kB)\r\n",
      "Building wheels for collected packages: grad-cam\r\n",
      "  Building wheel for grad-cam (pyproject.toml) ... \u001b[?25l\u001b[?25hdone\r\n",
      "  Created wheel for grad-cam: filename=grad_cam-1.5.5-py3-none-any.whl size=43670 sha256=b9ecbac18c0d3231463fb864fb13bbb7ad44247537258611ccc8a16f9cadf65f\r\n",
      "  Stored in directory: /tmp/pip-ephem-wheel-cache-1yssf5bk/wheels/a0/4d/c8/0502c44e32030c99ffab1b98075308a1ef9829c1835537afc6\r\n",
      "Successfully built grad-cam\r\n",
      "Installing collected packages: ttach, nvidia-nvjitlink-cu12, nvidia-curand-cu12, nvidia-cufft-cu12, nvidia-cublas-cu12, nvidia-cusparse-cu12, nvidia-cudnn-cu12, nvidia-cusolver-cu12, grad-cam\r\n",
      "  Attempting uninstall: nvidia-nvjitlink-cu12\r\n",
      "    Found existing installation: nvidia-nvjitlink-cu12 12.8.93\r\n",
      "    Uninstalling nvidia-nvjitlink-cu12-12.8.93:\r\n",
      "      Successfully uninstalled nvidia-nvjitlink-cu12-12.8.93\r\n",
      "  Attempting uninstall: nvidia-curand-cu12\r\n",
      "    Found existing installation: nvidia-curand-cu12 10.3.9.90\r\n",
      "    Uninstalling nvidia-curand-cu12-10.3.9.90:\r\n",
      "      Successfully uninstalled nvidia-curand-cu12-10.3.9.90\r\n",
      "  Attempting uninstall: nvidia-cufft-cu12\r\n",
      "    Found existing installation: nvidia-cufft-cu12 11.3.3.83\r\n",
      "    Uninstalling nvidia-cufft-cu12-11.3.3.83:\r\n",
      "      Successfully uninstalled nvidia-cufft-cu12-11.3.3.83\r\n",
      "  Attempting uninstall: nvidia-cublas-cu12\r\n",
      "    Found existing installation: nvidia-cublas-cu12 12.8.4.1\r\n",
      "    Uninstalling nvidia-cublas-cu12-12.8.4.1:\r\n",
      "      Successfully uninstalled nvidia-cublas-cu12-12.8.4.1\r\n",
      "  Attempting uninstall: nvidia-cusparse-cu12\r\n",
      "    Found existing installation: nvidia-cusparse-cu12 12.5.8.93\r\n",
      "    Uninstalling nvidia-cusparse-cu12-12.5.8.93:\r\n",
      "      Successfully uninstalled nvidia-cusparse-cu12-12.5.8.93\r\n",
      "  Attempting uninstall: nvidia-cudnn-cu12\r\n",
      "    Found existing installation: nvidia-cudnn-cu12 9.3.0.75\r\n",
      "    Uninstalling nvidia-cudnn-cu12-9.3.0.75:\r\n",
      "      Successfully uninstalled nvidia-cudnn-cu12-9.3.0.75\r\n",
      "  Attempting uninstall: nvidia-cusolver-cu12\r\n",
      "    Found existing installation: nvidia-cusolver-cu12 11.7.3.90\r\n",
      "    Uninstalling nvidia-cusolver-cu12-11.7.3.90:\r\n",
      "      Successfully uninstalled nvidia-cusolver-cu12-11.7.3.90\r\n",
      "\u001b[31mERROR: pip's dependency resolver does not currently take into account all the packages that are installed. This behaviour is the source of the following dependency conflicts.\r\n",
      "pylibcugraph-cu12 24.12.0 requires pylibraft-cu12==24.12.*, but you have pylibraft-cu12 25.2.0 which is incompatible.\r\n",
      "pylibcugraph-cu12 24.12.0 requires rmm-cu12==24.12.*, but you have rmm-cu12 25.2.0 which is incompatible.\u001b[0m\u001b[31m\r\n",
      "\u001b[0mSuccessfully installed grad-cam-1.5.5 nvidia-cublas-cu12-12.4.5.8 nvidia-cudnn-cu12-9.1.0.70 nvidia-cufft-cu12-11.2.1.3 nvidia-curand-cu12-10.3.5.147 nvidia-cusolver-cu12-11.6.1.9 nvidia-cusparse-cu12-12.3.1.170 nvidia-nvjitlink-cu12-12.4.127 ttach-0.0.3\r\n",
      "Requirement already satisfied: lime in /usr/local/lib/python3.11/dist-packages (0.2.0.1)\r\n",
      "Requirement already satisfied: matplotlib in /usr/local/lib/python3.11/dist-packages (from lime) (3.7.5)\r\n",
      "Requirement already satisfied: numpy in /usr/local/lib/python3.11/dist-packages (from lime) (1.26.4)\r\n",
      "Requirement already satisfied: scipy in /usr/local/lib/python3.11/dist-packages (from lime) (1.15.2)\r\n",
      "Requirement already satisfied: tqdm in /usr/local/lib/python3.11/dist-packages (from lime) (4.67.1)\r\n",
      "Requirement already satisfied: scikit-learn>=0.18 in /usr/local/lib/python3.11/dist-packages (from lime) (1.2.2)\r\n",
      "Requirement already satisfied: scikit-image>=0.12 in /usr/local/lib/python3.11/dist-packages (from lime) (0.25.1)\r\n",
      "Requirement already satisfied: networkx>=3.0 in /usr/local/lib/python3.11/dist-packages (from scikit-image>=0.12->lime) (3.4.2)\r\n",
      "Requirement already satisfied: pillow>=10.1 in /usr/local/lib/python3.11/dist-packages (from scikit-image>=0.12->lime) (11.1.0)\r\n",
      "Requirement already satisfied: imageio!=2.35.0,>=2.33 in /usr/local/lib/python3.11/dist-packages (from scikit-image>=0.12->lime) (2.37.0)\r\n",
      "Requirement already satisfied: tifffile>=2022.8.12 in /usr/local/lib/python3.11/dist-packages (from scikit-image>=0.12->lime) (2025.1.10)\r\n",
      "Requirement already satisfied: packaging>=21 in /usr/local/lib/python3.11/dist-packages (from scikit-image>=0.12->lime) (24.2)\r\n",
      "Requirement already satisfied: lazy-loader>=0.4 in /usr/local/lib/python3.11/dist-packages (from scikit-image>=0.12->lime) (0.4)\r\n",
      "Requirement already satisfied: mkl_fft in /usr/local/lib/python3.11/dist-packages (from numpy->lime) (1.3.8)\r\n",
      "Requirement already satisfied: mkl_random in /usr/local/lib/python3.11/dist-packages (from numpy->lime) (1.2.4)\r\n",
      "Requirement already satisfied: mkl_umath in /usr/local/lib/python3.11/dist-packages (from numpy->lime) (0.1.1)\r\n",
      "Requirement already satisfied: mkl in /usr/local/lib/python3.11/dist-packages (from numpy->lime) (2025.1.0)\r\n",
      "Requirement already satisfied: tbb4py in /usr/local/lib/python3.11/dist-packages (from numpy->lime) (2022.1.0)\r\n",
      "Requirement already satisfied: mkl-service in /usr/local/lib/python3.11/dist-packages (from numpy->lime) (2.4.1)\r\n",
      "Requirement already satisfied: joblib>=1.1.1 in /usr/local/lib/python3.11/dist-packages (from scikit-learn>=0.18->lime) (1.4.2)\r\n",
      "Requirement already satisfied: threadpoolctl>=2.0.0 in /usr/local/lib/python3.11/dist-packages (from scikit-learn>=0.18->lime) (3.6.0)\r\n",
      "Requirement already satisfied: contourpy>=1.0.1 in /usr/local/lib/python3.11/dist-packages (from matplotlib->lime) (1.3.1)\r\n",
      "Requirement already satisfied: cycler>=0.10 in /usr/local/lib/python3.11/dist-packages (from matplotlib->lime) (0.12.1)\r\n",
      "Requirement already satisfied: fonttools>=4.22.0 in /usr/local/lib/python3.11/dist-packages (from matplotlib->lime) (4.56.0)\r\n",
      "Requirement already satisfied: kiwisolver>=1.0.1 in /usr/local/lib/python3.11/dist-packages (from matplotlib->lime) (1.4.8)\r\n",
      "Requirement already satisfied: pyparsing>=2.3.1 in /usr/local/lib/python3.11/dist-packages (from matplotlib->lime) (3.2.1)\r\n",
      "Requirement already satisfied: python-dateutil>=2.7 in /usr/local/lib/python3.11/dist-packages (from matplotlib->lime) (2.9.0.post0)\r\n",
      "Requirement already satisfied: six>=1.5 in /usr/local/lib/python3.11/dist-packages (from python-dateutil>=2.7->matplotlib->lime) (1.17.0)\r\n",
      "Requirement already satisfied: intel-openmp<2026,>=2024 in /usr/local/lib/python3.11/dist-packages (from mkl->numpy->lime) (2024.2.0)\r\n",
      "Requirement already satisfied: tbb==2022.* in /usr/local/lib/python3.11/dist-packages (from mkl->numpy->lime) (2022.1.0)\r\n",
      "Requirement already satisfied: tcmlib==1.* in /usr/local/lib/python3.11/dist-packages (from tbb==2022.*->mkl->numpy->lime) (1.2.0)\r\n",
      "Requirement already satisfied: intel-cmplr-lib-rt in /usr/local/lib/python3.11/dist-packages (from mkl_umath->numpy->lime) (2024.2.0)\r\n",
      "Requirement already satisfied: intel-cmplr-lib-ur==2024.2.0 in /usr/local/lib/python3.11/dist-packages (from intel-openmp<2026,>=2024->mkl->numpy->lime) (2024.2.0)\r\n"
     ]
    }
   ],
   "source": [
    "!pip install git+https://github.com/jacobgil/pytorch-grad-cam.git\n",
    "\n",
    "\n",
    "!pip install lime"
   ]
  },
  {
   "cell_type": "code",
   "execution_count": 6,
   "id": "be476815",
   "metadata": {
    "execution": {
     "iopub.execute_input": "2025-05-12T15:36:26.728555Z",
     "iopub.status.busy": "2025-05-12T15:36:26.727719Z",
     "iopub.status.idle": "2025-05-12T15:36:36.402142Z",
     "shell.execute_reply": "2025-05-12T15:36:36.401551Z"
    },
    "papermill": {
     "duration": 9.739563,
     "end_time": "2025-05-12T15:36:36.403466",
     "exception": false,
     "start_time": "2025-05-12T15:36:26.663903",
     "status": "completed"
    },
    "tags": []
   },
   "outputs": [],
   "source": [
    "import torch\n",
    "import torch.nn as nn\n",
    "import torch.optim as optim\n",
    "from torch.utils.data import DataLoader, random_split\n",
    "from torchvision import datasets, transforms, models\n",
    "from torchvision.transforms import ToTensor\n",
    "import torch.optim as optim\n",
    "import numpy as np\n",
    "import matplotlib.pyplot as plt\n",
    "from sklearn.metrics import precision_score, recall_score, f1_score\n",
    "from pytorch_grad_cam import GradCAM, GradCAMPlusPlus, EigenCAM\n",
    "from pytorch_grad_cam.utils.image import show_cam_on_image\n",
    "from lime import lime_image\n",
    "import zipfile\n",
    "import os\n",
    "from tqdm import tqdm  # Import tqdm for progress bars"
   ]
  },
  {
   "cell_type": "markdown",
   "id": "f613a4b8",
   "metadata": {
    "papermill": {
     "duration": 0.057762,
     "end_time": "2025-05-12T15:36:36.519462",
     "exception": false,
     "start_time": "2025-05-12T15:36:36.461700",
     "status": "completed"
    },
    "tags": []
   },
   "source": [
    "## Pre-Processing and Load the Dataset"
   ]
  },
  {
   "cell_type": "code",
   "execution_count": 7,
   "id": "78656fbd",
   "metadata": {
    "execution": {
     "iopub.execute_input": "2025-05-12T15:36:36.638488Z",
     "iopub.status.busy": "2025-05-12T15:36:36.638095Z",
     "iopub.status.idle": "2025-05-12T15:36:36.695604Z",
     "shell.execute_reply": "2025-05-12T15:36:36.694905Z"
    },
    "papermill": {
     "duration": 0.119536,
     "end_time": "2025-05-12T15:36:36.696995",
     "exception": false,
     "start_time": "2025-05-12T15:36:36.577459",
     "status": "completed"
    },
    "tags": []
   },
   "outputs": [],
   "source": [
    "# Define transformations with potential augmentations\n",
    "transform_train = transforms.Compose([\n",
    "    transforms.RandomResizedCrop(224),      \n",
    "    transforms.RandomHorizontalFlip(),     \n",
    "    transforms.ToTensor(),                  \n",
    "    transforms.Normalize(mean=[0.5, 0.5, 0.5], std=[0.5, 0.5, 0.5])\n",
    "])\n",
    "\n",
    "transform_test = transforms.Compose([\n",
    "    transforms.Resize((224, 224)),         \n",
    "    transforms.ToTensor(),\n",
    "    transforms.Normalize(mean=[0.5, 0.5, 0.5], std=[0.5, 0.5, 0.5])\n",
    "])\n",
    "# Load dataset\n",
    "dataset = datasets.ImageFolder(root=\"/kaggle/working/organized_dataset\", transform=transform_train)\n",
    "train_size = int(0.7 * len(dataset))\n",
    "val_size = int(0.2 * len(dataset))\n",
    "test_size = len(dataset) - train_size - val_size\n",
    "train_dataset, val_dataset, test_dataset = random_split(dataset, [train_size, val_size, test_size])\n",
    "# Apply test transformation to validation and test sets\n",
    "\n",
    "val_dataset.dataset.transform = transform_test\n",
    "test_dataset.dataset.transform = transform_test\n",
    "\n",
    "train_loader = DataLoader(train_dataset, batch_size=32, shuffle=True)\n",
    "val_loader = DataLoader(val_dataset, batch_size=32, shuffle=False)\n",
    "test_loader = DataLoader(test_dataset, batch_size=32, shuffle=False)"
   ]
  },
  {
   "cell_type": "markdown",
   "id": "fcd60c05",
   "metadata": {
    "papermill": {
     "duration": 0.057962,
     "end_time": "2025-05-12T15:36:36.815401",
     "exception": false,
     "start_time": "2025-05-12T15:36:36.757439",
     "status": "completed"
    },
    "tags": []
   },
   "source": [
    "## Data Visualization for Each Class"
   ]
  },
  {
   "cell_type": "code",
   "execution_count": 8,
   "id": "a8eea67b",
   "metadata": {
    "execution": {
     "iopub.execute_input": "2025-05-12T15:36:36.934398Z",
     "iopub.status.busy": "2025-05-12T15:36:36.934094Z",
     "iopub.status.idle": "2025-05-12T15:36:37.535409Z",
     "shell.execute_reply": "2025-05-12T15:36:37.534652Z"
    },
    "papermill": {
     "duration": 0.665597,
     "end_time": "2025-05-12T15:36:37.538898",
     "exception": false,
     "start_time": "2025-05-12T15:36:36.873301",
     "status": "completed"
    },
    "tags": []
   },
   "outputs": [
    {
     "name": "stdout",
     "output_type": "stream",
     "text": [
      "['Bacterial', 'Fresh_leaf', 'Fungal', 'Viral']\n",
      "{'Bacterial': 0, 'Fresh_leaf': 1, 'Fungal': 2, 'Viral': 3}\n",
      "4\n"
     ]
    },
    {
     "data": {
      "image/png": "[encoded data removed]",
      "text/plain": [
       "<Figure size 1000x400 with 4 Axes>"
      ]
     },
     "metadata": {},
     "output_type": "display_data"
    }
   ],
   "source": [
    "class_names = dataset.classes\n",
    "print(class_names)\n",
    "print(dataset.class_to_idx)\n",
    "# Output: {'anthracnose': 0, 'downey mildew': 1, 'fresh leaf': 2}\n",
    "num_classes = len(class_names)\n",
    "print(num_classes)\n",
    "fig, axs = plt.subplots(1, num_classes, figsize=(10, 4))\n",
    "# Dictionary to track displayed images per class\n",
    "displayed_classes = {class_name: False for class_name in class_names}\n",
    "\n",
    "# Loop through the data to get at least one sample from each class\n",
    "for images, labels in train_loader:\n",
    "    for img, label in zip(images, labels):\n",
    "        class_name = class_names[label]\n",
    "        # Display the image if not already displayed for this class\n",
    "        if not displayed_classes[class_name]:\n",
    "            img = img.permute(1, 2, 0).numpy()\n",
    "            img = (img * 0.5) + 0.5  # Unnormalize the image\n",
    "            axs[label].imshow(np.clip(img, 0, 1))  # Clip to valid range\n",
    "            axs[label].set_title(class_name)\n",
    "            axs[label].axis('off')\n",
    "            displayed_classes[class_name] = True  # Mark as displayed\n",
    "\n",
    "        # Break if all classes are displayed\n",
    "        if all(displayed_classes.values()):\n",
    "            break\n",
    "\n",
    "    if all(displayed_classes.values()):\n",
    "        break\n",
    "plt.show()"
   ]
  },
  {
   "cell_type": "markdown",
   "id": "aa08214f",
   "metadata": {
    "papermill": {
     "duration": 0.064195,
     "end_time": "2025-05-12T15:36:37.667768",
     "exception": false,
     "start_time": "2025-05-12T15:36:37.603573",
     "status": "completed"
    },
    "tags": []
   },
   "source": [
    "# Custom CNN model"
   ]
  },
  {
   "cell_type": "code",
   "execution_count": 9,
   "id": "e742c881",
   "metadata": {
    "execution": {
     "iopub.execute_input": "2025-05-12T15:36:37.790485Z",
     "iopub.status.busy": "2025-05-12T15:36:37.790203Z",
     "iopub.status.idle": "2025-05-12T15:36:37.797691Z",
     "shell.execute_reply": "2025-05-12T15:36:37.797147Z"
    },
    "papermill": {
     "duration": 0.069415,
     "end_time": "2025-05-12T15:36:37.798943",
     "exception": false,
     "start_time": "2025-05-12T15:36:37.729528",
     "status": "completed"
    },
    "tags": []
   },
   "outputs": [],
   "source": [
    "import torch\n",
    "import torch.nn as nn\n",
    "import torch.nn.functional as F\n",
    "\n",
    "class CustomCNN(nn.Module):\n",
    "    def __init__(self):\n",
    "        super(CustomCNN, self).__init__()\n",
    "        \n",
    "        # Convolutional Layers\n",
    "        self.conv1 = nn.Conv2d(in_channels=3, out_channels=64, kernel_size=3, padding=1)\n",
    "        self.conv2 = nn.Conv2d(in_channels=64, out_channels=128, kernel_size=3, padding=1)\n",
    "        self.conv3 = nn.Conv2d(in_channels=128, out_channels=256, kernel_size=3, padding=1)\n",
    "        self.conv4 = nn.Conv2d(in_channels=256, out_channels=256, kernel_size=3, padding=1)\n",
    "        \n",
    "        # Fully Connected Layers\n",
    "        self.fc1 = nn.Linear(256 * 14 * 14, 512)  \n",
    "        self.fc2 = nn.Linear(512, 256)\n",
    "        self.fc3 = nn.Linear(256, 128)\n",
    "        self.fc4 = nn.Linear(128, 4)  # Change 3 → my number of classes\n",
    "        \n",
    "        # Dropout\n",
    "        self.dropout = nn.Dropout(0.5)\n",
    "\n",
    "    def forward(self, x):\n",
    "        x = F.relu(self.conv1(x))\n",
    "        x = F.max_pool2d(x, 2)\n",
    "\n",
    "        x = F.relu(self.conv2(x))\n",
    "        x = F.max_pool2d(x, 2)\n",
    "\n",
    "        x = F.relu(self.conv3(x))\n",
    "        x = F.max_pool2d(x, 2)\n",
    "\n",
    "        x = F.relu(self.conv4(x))\n",
    "        x = F.max_pool2d(x, 2)\n",
    "\n",
    "        x = torch.flatten(x, start_dim=1)  # Dynamic flattening\n",
    "\n",
    "        x = self.dropout(F.relu(self.fc1(x)))\n",
    "        x = self.dropout(F.relu(self.fc2(x)))\n",
    "        x = self.dropout(F.relu(self.fc3(x)))\n",
    "        x = self.fc4(x)\n",
    "\n",
    "        return x\n"
   ]
  },
  {
   "cell_type": "markdown",
   "id": "fd677a19",
   "metadata": {
    "papermill": {
     "duration": 0.060019,
     "end_time": "2025-05-12T15:36:37.918598",
     "exception": false,
     "start_time": "2025-05-12T15:36:37.858579",
     "status": "completed"
    },
    "tags": []
   },
   "source": [
    "## Early Stopping Logic"
   ]
  },
  {
   "cell_type": "code",
   "execution_count": 10,
   "id": "21159143",
   "metadata": {
    "execution": {
     "iopub.execute_input": "2025-05-12T15:36:38.039875Z",
     "iopub.status.busy": "2025-05-12T15:36:38.039215Z",
     "iopub.status.idle": "2025-05-12T15:36:38.043654Z",
     "shell.execute_reply": "2025-05-12T15:36:38.043142Z"
    },
    "papermill": {
     "duration": 0.067401,
     "end_time": "2025-05-12T15:36:38.044631",
     "exception": false,
     "start_time": "2025-05-12T15:36:37.977230",
     "status": "completed"
    },
    "tags": []
   },
   "outputs": [],
   "source": [
    "class EarlyStopping:\n",
    "\n",
    "    def __init__(self, patience=5):\n",
    "\n",
    "        self.patience = patience\n",
    "        self.counter = 0\n",
    "        self.best_loss = np.inf\n",
    "\n",
    "    def check_early_stop(self, val_loss):\n",
    "        if val_loss < self.best_loss:\n",
    "            self.best_loss = val_loss\n",
    "            self.counter = 0\n",
    "        else:\n",
    "            self.counter += 1\n",
    "            if self.counter >= self.patience:\n",
    "                return True\n",
    "        return False\n"
   ]
  },
  {
   "cell_type": "markdown",
   "id": "e2337b2b",
   "metadata": {
    "papermill": {
     "duration": 0.069755,
     "end_time": "2025-05-12T15:36:38.174713",
     "exception": false,
     "start_time": "2025-05-12T15:36:38.104958",
     "status": "completed"
    },
    "tags": []
   },
   "source": [
    "## Train the Model and Plot Loss Curves\n",
    "\n",
    "### Using AMP with Custom Model\n",
    "\n",
    "To improve training speed, we can utilize Automatic Mixed Precision (AMP) provided by torch.cuda.amp. AMP enables faster training by using lower precision (float16) for parts of the computation while maintaining accuracy with some operations in higher precision (float32)."
   ]
  },
  {
   "cell_type": "code",
   "execution_count": 11,
   "id": "bfd3eb28",
   "metadata": {
    "execution": {
     "iopub.execute_input": "2025-05-12T15:36:38.300410Z",
     "iopub.status.busy": "2025-05-12T15:36:38.299938Z",
     "iopub.status.idle": "2025-05-12T15:56:23.572690Z",
     "shell.execute_reply": "2025-05-12T15:56:23.571901Z"
    },
    "papermill": {
     "duration": 1185.334453,
     "end_time": "2025-05-12T15:56:23.574033",
     "exception": false,
     "start_time": "2025-05-12T15:36:38.239580",
     "status": "completed"
    },
    "tags": []
   },
   "outputs": [
    {
     "name": "stderr",
     "output_type": "stream",
     "text": [
      "/tmp/ipykernel_19/789814707.py:19: FutureWarning: `torch.cuda.amp.GradScaler(args...)` is deprecated. Please use `torch.amp.GradScaler('cuda', args...)` instead.\n",
      "  scaler = GradScaler()\n"
     ]
    },
    {
     "name": "stdout",
     "output_type": "stream",
     "text": [
      "Epoch 1/50\n"
     ]
    },
    {
     "name": "stderr",
     "output_type": "stream",
     "text": [
      "Training:   0%|          | 0/280 [00:00<?, ?it/s]/tmp/ipykernel_19/789814707.py:31: FutureWarning: `torch.cuda.amp.autocast(args...)` is deprecated. Please use `torch.amp.autocast('cuda', args...)` instead.\n",
      "  with autocast():  # Use AMP for mixed-precision calculations\n",
      "Validation:   0%|          | 0/80 [00:00<?, ?it/s]/tmp/ipykernel_19/789814707.py:48: FutureWarning: `torch.cuda.amp.autocast(args...)` is deprecated. Please use `torch.amp.autocast('cuda', args...)` instead.\n",
      "  with autocast():  # Use AMP for mixed-precision calculations\n",
      "                                                           \r"
     ]
    },
    {
     "name": "stdout",
     "output_type": "stream",
     "text": [
      "Epoch [1/50] - Train Loss: 1.0593, Val Loss: 0.6763 - Progress: 2.00%\n",
      "Epoch 2/50\n"
     ]
    },
    {
     "name": "stderr",
     "output_type": "stream",
     "text": [
      "                                                           \r"
     ]
    },
    {
     "name": "stdout",
     "output_type": "stream",
     "text": [
      "Epoch [2/50] - Train Loss: 0.6466, Val Loss: 0.3285 - Progress: 4.00%\n",
      "Epoch 3/50\n"
     ]
    },
    {
     "name": "stderr",
     "output_type": "stream",
     "text": [
      "                                                           \r"
     ]
    },
    {
     "name": "stdout",
     "output_type": "stream",
     "text": [
      "Epoch [3/50] - Train Loss: 0.3731, Val Loss: 0.3160 - Progress: 6.00%\n",
      "Epoch 4/50\n"
     ]
    },
    {
     "name": "stderr",
     "output_type": "stream",
     "text": [
      "                                                           \r"
     ]
    },
    {
     "name": "stdout",
     "output_type": "stream",
     "text": [
      "Epoch [4/50] - Train Loss: 0.2336, Val Loss: 0.1491 - Progress: 8.00%\n",
      "Epoch 5/50\n"
     ]
    },
    {
     "name": "stderr",
     "output_type": "stream",
     "text": [
      "                                                           \r"
     ]
    },
    {
     "name": "stdout",
     "output_type": "stream",
     "text": [
      "Epoch [5/50] - Train Loss: 0.1851, Val Loss: 0.1184 - Progress: 10.00%\n",
      "Epoch 6/50\n"
     ]
    },
    {
     "name": "stderr",
     "output_type": "stream",
     "text": [
      "                                                           \r"
     ]
    },
    {
     "name": "stdout",
     "output_type": "stream",
     "text": [
      "Epoch [6/50] - Train Loss: 0.1401, Val Loss: 0.0773 - Progress: 12.00%\n",
      "Epoch 7/50\n"
     ]
    },
    {
     "name": "stderr",
     "output_type": "stream",
     "text": [
      "                                                           \r"
     ]
    },
    {
     "name": "stdout",
     "output_type": "stream",
     "text": [
      "Epoch [7/50] - Train Loss: 0.0838, Val Loss: 0.0770 - Progress: 14.00%\n",
      "Epoch 8/50\n"
     ]
    },
    {
     "name": "stderr",
     "output_type": "stream",
     "text": [
      "                                                           \r"
     ]
    },
    {
     "name": "stdout",
     "output_type": "stream",
     "text": [
      "Epoch [8/50] - Train Loss: 0.0831, Val Loss: 0.0841 - Progress: 16.00%\n",
      "Epoch 9/50\n"
     ]
    },
    {
     "name": "stderr",
     "output_type": "stream",
     "text": [
      "                                                           \r"
     ]
    },
    {
     "name": "stdout",
     "output_type": "stream",
     "text": [
      "Epoch [9/50] - Train Loss: 0.0635, Val Loss: 0.1321 - Progress: 18.00%\n",
      "Epoch 10/50\n"
     ]
    },
    {
     "name": "stderr",
     "output_type": "stream",
     "text": [
      "                                                           \r"
     ]
    },
    {
     "name": "stdout",
     "output_type": "stream",
     "text": [
      "Epoch [10/50] - Train Loss: 0.0749, Val Loss: 0.2080 - Progress: 20.00%\n",
      "Epoch 11/50\n"
     ]
    },
    {
     "name": "stderr",
     "output_type": "stream",
     "text": [
      "                                                           \r"
     ]
    },
    {
     "name": "stdout",
     "output_type": "stream",
     "text": [
      "Epoch [11/50] - Train Loss: 0.0715, Val Loss: 0.0887 - Progress: 22.00%\n",
      "Epoch 12/50\n"
     ]
    },
    {
     "name": "stderr",
     "output_type": "stream",
     "text": [
      "                                                           "
     ]
    },
    {
     "name": "stdout",
     "output_type": "stream",
     "text": [
      "Epoch [12/50] - Train Loss: 0.0543, Val Loss: 0.2032 - Progress: 24.00%\n",
      "Early stopping triggered.\n"
     ]
    },
    {
     "name": "stderr",
     "output_type": "stream",
     "text": [
      "\r"
     ]
    }
   ],
   "source": [
    "from tqdm import tqdm  # Import tqdm for progress bars\n",
    "from torch.cuda.amp import autocast, GradScaler  # Import AMP utilities\n",
    "\n",
    "# Set number of epochs and initialize variables\n",
    "\n",
    "num_epochs = 50  # Define the number of training epochs\n",
    "\n",
    "model = CustomCNN().to('cuda')  # Move model to GPU\n",
    "\n",
    "criterion = nn.CrossEntropyLoss()  # Loss function\n",
    "\n",
    "optimizer = optim.Adam(model.parameters(), lr=0.001)  # Optimizer with learning rate\n",
    "\n",
    "early_stopping = EarlyStopping(patience=5)  # Initialize early stopping with patience\n",
    "\n",
    "train_losses, val_losses = [], []  # Lists to store training and validation losses per epoch\n",
    "\n",
    "# Initialize GradScaler for AMP\n",
    "scaler = GradScaler()\n",
    "# Loop over epochs\n",
    "for epoch in range(num_epochs):\n",
    "\n",
    "    print(f\"Epoch {epoch+1}/{num_epochs}\")\n",
    "    # Training phase\n",
    "    model.train()  # Set model to training mode\n",
    "    train_loss = 0  # Initialize cumulative training loss for the epoch\n",
    "    # Loop over training data with tqdm progress bar\n",
    "    for images, labels in tqdm(train_loader, desc=\"Training\", leave=False):\n",
    "        images, labels = images.to('cuda'), labels.to('cuda')  # Move data to GPU\n",
    "        optimizer.zero_grad()  # Clear previous gradients\n",
    "        with autocast():  # Use AMP for mixed-precision calculations\n",
    "            outputs = model(images)  # Forward pass\n",
    "            loss = criterion(outputs, labels)  # Compute loss\n",
    "\n",
    "        # Scale loss to avoid underflow for float16\n",
    "        scaler.scale(loss).backward()  # Backward pass with scaled loss\n",
    "        scaler.step(optimizer)  # Optimizer step\n",
    "        scaler.update()  # Update the scaler for next iteration\n",
    "        train_loss += loss.item()  # Accumulate the training loss\n",
    "\n",
    "    # Validation phase\n",
    "    model.eval()  # Set model to evaluation mode\n",
    "    val_loss = 0  # Initialize cumulative validation loss for the epoch\n",
    "    with torch.no_grad():  # Disable gradient calculation for validation\n",
    "        # Loop over validation data with tqdm progress bar\n",
    "        for images, labels in tqdm(val_loader, desc=\"Validation\", leave=False):\n",
    "            images, labels = images.to('cuda'), labels.to('cuda')  # Move data to GPU\n",
    "            with autocast():  # Use AMP for mixed-precision calculations\n",
    "                outputs = model(images)  # Forward pass\n",
    "                loss = criterion(outputs, labels)  # Compute loss\n",
    "            val_loss += loss.item()  # Accumulate the validation loss\n",
    "\n",
    "    # Calculate average losses and append to lists\n",
    "    avg_train_loss = train_loss / len(train_loader)\n",
    "    avg_val_loss = val_loss / len(val_loader)\n",
    "    train_losses.append(avg_train_loss)\n",
    "    val_losses.append(avg_val_loss)\n",
    "\n",
    "    progress = ((epoch + 1) / num_epochs) * 100\n",
    "    print(f\"Epoch [{epoch+1}/{num_epochs}] - Train Loss: {avg_train_loss:.4f}, Val Loss: {avg_val_loss:.4f} - Progress: {progress:.2f}%\")\n",
    "\n",
    "    # Early stopping check\n",
    "    if early_stopping.check_early_stop(avg_val_loss):\n",
    "        print(\"Early stopping triggered.\")\n",
    "        break"
   ]
  },
  {
   "cell_type": "markdown",
   "id": "ff16d974",
   "metadata": {
    "papermill": {
     "duration": 0.2319,
     "end_time": "2025-05-12T15:56:24.037872",
     "exception": false,
     "start_time": "2025-05-12T15:56:23.805972",
     "status": "completed"
    },
    "tags": []
   },
   "source": [
    "## Loss Curve for Custom CNN"
   ]
  },
  {
   "cell_type": "code",
   "execution_count": 12,
   "id": "7bdb63d4",
   "metadata": {
    "execution": {
     "iopub.execute_input": "2025-05-12T15:56:24.487383Z",
     "iopub.status.busy": "2025-05-12T15:56:24.487106Z",
     "iopub.status.idle": "2025-05-12T15:56:24.632486Z",
     "shell.execute_reply": "2025-05-12T15:56:24.631797Z"
    },
    "papermill": {
     "duration": 0.371634,
     "end_time": "2025-05-12T15:56:24.633573",
     "exception": false,
     "start_time": "2025-05-12T15:56:24.261939",
     "status": "completed"
    },
    "tags": []
   },
   "outputs": [
    {
     "data": {
      "image/png": "[encoded data removed]",
      "text/plain": [
       "<Figure size 640x480 with 1 Axes>"
      ]
     },
     "metadata": {},
     "output_type": "display_data"
    }
   ],
   "source": [
    "# Plotting loss curves\n",
    "plt.plot(train_losses, label='Train Loss')\n",
    "plt.plot(val_losses, label='Validation Loss')\n",
    "plt.xlabel('Epoch')\n",
    "plt.ylabel('Loss')\n",
    "plt.legend()\n",
    "plt.title(\"Training and Validation Loss\")\n",
    "plt.show()"
   ]
  },
  {
   "cell_type": "code",
   "execution_count": 13,
   "id": "65aea20d",
   "metadata": {
    "execution": {
     "iopub.execute_input": "2025-05-12T15:56:25.140702Z",
     "iopub.status.busy": "2025-05-12T15:56:25.140429Z",
     "iopub.status.idle": "2025-05-12T15:56:25.363198Z",
     "shell.execute_reply": "2025-05-12T15:56:25.362409Z"
    },
    "papermill": {
     "duration": 0.45633,
     "end_time": "2025-05-12T15:56:25.364420",
     "exception": false,
     "start_time": "2025-05-12T15:56:24.908090",
     "status": "completed"
    },
    "tags": []
   },
   "outputs": [
    {
     "name": "stdout",
     "output_type": "stream",
     "text": [
      "Model saved to custom_cnn_model.pth\n"
     ]
    }
   ],
   "source": [
    "# Define a path for saving the model\n",
    "model_save_path = \"custom_cnn_model.pth\"  # You can specify a different path or filename\n",
    "\n",
    "# Save the model after training completes or early stopping is triggered\n",
    "torch.save(model.state_dict(), model_save_path)\n",
    "\n",
    "print(f\"Model saved to {model_save_path}\")"
   ]
  },
  {
   "cell_type": "markdown",
   "id": "a0e21eea",
   "metadata": {
    "papermill": {
     "duration": 0.222863,
     "end_time": "2025-05-12T15:56:25.813787",
     "exception": false,
     "start_time": "2025-05-12T15:56:25.590924",
     "status": "completed"
    },
    "tags": []
   },
   "source": [
    "## Model Evaluation and Metrics Calculation for Custom CNN"
   ]
  },
  {
   "cell_type": "code",
   "execution_count": 14,
   "id": "8bd0b125",
   "metadata": {
    "execution": {
     "iopub.execute_input": "2025-05-12T15:56:26.320277Z",
     "iopub.status.busy": "2025-05-12T15:56:26.319869Z",
     "iopub.status.idle": "2025-05-12T15:56:36.450609Z",
     "shell.execute_reply": "2025-05-12T15:56:36.449811Z"
    },
    "papermill": {
     "duration": 10.409271,
     "end_time": "2025-05-12T15:56:36.451885",
     "exception": false,
     "start_time": "2025-05-12T15:56:26.042614",
     "status": "completed"
    },
    "tags": []
   },
   "outputs": [
    {
     "name": "stdout",
     "output_type": "stream",
     "text": [
      "Accuracy: 95.78%\n",
      "Precision: 0.9590\n",
      "Recall: 0.9578\n",
      "F1 Score: 0.9578\n"
     ]
    }
   ],
   "source": [
    "from sklearn.metrics import accuracy_score, precision_score, recall_score, f1_score\n",
    "\n",
    "# Move model to evaluation mode\n",
    "model.eval()\n",
    "\n",
    "# Initialize lists to store predictions and true labels\n",
    "all_preds = []\n",
    "all_labels = []\n",
    "\n",
    "# Run inference\n",
    "with torch.no_grad():  # Disable gradient calculation for faster inference\n",
    "    for images, labels in test_loader:\n",
    "        # Move images and labels to the same device as the model (GPU)\n",
    "        images, labels = images.to('cuda'), labels.to('cuda')\n",
    "\n",
    "        # Forward pass\n",
    "        outputs = model(images)\n",
    "\n",
    "        # Get predictions (choose the class with the highest logit score)\n",
    "        _, predicted = torch.max(outputs, 1)\n",
    "\n",
    "        # Append predictions and true labels to lists\n",
    "        all_preds.extend(predicted.cpu().numpy())  # Move to CPU and convert to numpy\n",
    "        all_labels.extend(labels.cpu().numpy())    # Move to CPU and convert to numpy\n",
    "\n",
    "# Calculate evaluation metrics\n",
    "accuracy = accuracy_score(all_labels, all_preds)\n",
    "precision = precision_score(all_labels, all_preds, average='weighted')\n",
    "recall = recall_score(all_labels, all_preds, average='weighted')\n",
    "f1 = f1_score(all_labels, all_preds, average='weighted')\n",
    "\n",
    "# Print the evaluation metrics\n",
    "print(f\"Accuracy: {accuracy * 100:.2f}%\")\n",
    "print(f\"Precision: {precision:.4f}\")\n",
    "print(f\"Recall: {recall:.4f}\")\n",
    "print(f\"F1 Score: {f1:.4f}\")\n"
   ]
  },
  {
   "cell_type": "markdown",
   "id": "064122ba",
   "metadata": {
    "papermill": {
     "duration": 0.22754,
     "end_time": "2025-05-12T15:56:36.907114",
     "exception": false,
     "start_time": "2025-05-12T15:56:36.679574",
     "status": "completed"
    },
    "tags": []
   },
   "source": [
    "#  Transfer Learning Model"
   ]
  },
  {
   "cell_type": "code",
   "execution_count": 15,
   "id": "e5364afe",
   "metadata": {
    "execution": {
     "iopub.execute_input": "2025-05-12T15:56:37.362186Z",
     "iopub.status.busy": "2025-05-12T15:56:37.361899Z",
     "iopub.status.idle": "2025-05-12T15:56:40.915884Z",
     "shell.execute_reply": "2025-05-12T15:56:40.915291Z"
    },
    "papermill": {
     "duration": 3.782934,
     "end_time": "2025-05-12T15:56:40.917150",
     "exception": false,
     "start_time": "2025-05-12T15:56:37.134216",
     "status": "completed"
    },
    "tags": []
   },
   "outputs": [],
   "source": [
    "import torch.nn as nn\n",
    "import timm\n",
    "\n",
    "def get_transfer_model(model_name, num_classes):\n",
    "    if model_name == 'resnext101_32x8d':\n",
    "        model = timm.create_model('resnext101_32x8d', pretrained=True)\n",
    "        model.fc = nn.Linear(model.get_classifier().in_features, num_classes)\n",
    "\n",
    "    elif model_name == 'densenet201':\n",
    "        model = timm.create_model('densenet201', pretrained=True)\n",
    "        model.classifier = nn.Linear(model.get_classifier().in_features, num_classes)\n",
    "\n",
    "    elif model_name == 'efficientnetv2_m':\n",
    "        model = timm.create_model('efficientnetv2_m', pretrained=True)\n",
    "        model.classifier = nn.Linear(model.get_classifier().in_features, num_classes)\n",
    "\n",
    "    elif model_name == 'nasnetalarge':\n",
    "        model = timm.create_model('nasnetalarge', pretrained=True)\n",
    "        model.last_linear = nn.Linear(model.get_classifier().in_features, num_classes)\n",
    "\n",
    "    elif model_name == 'convnext_base':\n",
    "        model = timm.create_model('convnext_base', pretrained=True)\n",
    "        model.head = nn.Linear(model.get_classifier().in_features, num_classes)\n",
    "\n",
    "    elif model_name == 'seresnext101_32x8d':\n",
    "        model = timm.create_model('seresnext101_32x8d', pretrained=True)\n",
    "        model.fc = nn.Linear(model.get_classifier().in_features, num_classes)\n",
    "\n",
    "    else:\n",
    "        raise ValueError(f\"Model '{model_name}' not supported. Please check the name.\")\n",
    "\n",
    "    return model\n"
   ]
  },
  {
   "cell_type": "markdown",
   "id": "6f00a0e8",
   "metadata": {
    "papermill": {
     "duration": 0.226707,
     "end_time": "2025-05-12T15:56:41.433438",
     "exception": false,
     "start_time": "2025-05-12T15:56:41.206731",
     "status": "completed"
    },
    "tags": []
   },
   "source": [
    "## Transfer Learning Example using ResNeXt101"
   ]
  },
  {
   "cell_type": "code",
   "execution_count": 16,
   "id": "d6c0c0d6",
   "metadata": {
    "execution": {
     "iopub.execute_input": "2025-05-12T15:56:41.923640Z",
     "iopub.status.busy": "2025-05-12T15:56:41.923138Z",
     "iopub.status.idle": "2025-05-12T16:41:23.549291Z",
     "shell.execute_reply": "2025-05-12T16:41:23.548406Z"
    },
    "papermill": {
     "duration": 2681.859696,
     "end_time": "2025-05-12T16:41:23.550529",
     "exception": false,
     "start_time": "2025-05-12T15:56:41.690833",
     "status": "completed"
    },
    "tags": []
   },
   "outputs": [
    {
     "data": {
      "application/vnd.jupyter.widget-view+json": {
       "model_id": "266804964524409eb9102a416f92aa84",
       "version_major": 2,
       "version_minor": 0
      },
      "text/plain": [
       "model.safetensors:   0%|          | 0.00/356M [00:00<?, ?B/s]"
      ]
     },
     "metadata": {},
     "output_type": "display_data"
    },
    {
     "name": "stderr",
     "output_type": "stream",
     "text": [
      "/tmp/ipykernel_19/3130161404.py:19: FutureWarning: `torch.cuda.amp.GradScaler(args...)` is deprecated. Please use `torch.amp.GradScaler('cuda', args...)` instead.\n",
      "  scaler = GradScaler()\n"
     ]
    },
    {
     "name": "stdout",
     "output_type": "stream",
     "text": [
      "Epoch 1/50\n"
     ]
    },
    {
     "name": "stderr",
     "output_type": "stream",
     "text": [
      "Training:   0%|          | 0/280 [00:00<?, ?it/s]/tmp/ipykernel_19/3130161404.py:34: FutureWarning: `torch.cuda.amp.autocast(args...)` is deprecated. Please use `torch.amp.autocast('cuda', args...)` instead.\n",
      "  with autocast():  # Use AMP for mixed-precision calculations\n",
      "Validation:   0%|          | 0/80 [00:00<?, ?it/s]/tmp/ipykernel_19/3130161404.py:51: FutureWarning: `torch.cuda.amp.autocast(args...)` is deprecated. Please use `torch.amp.autocast('cuda', args...)` instead.\n",
      "  with autocast():  # Use AMP for mixed-precision calculations\n",
      "                                                           \r"
     ]
    },
    {
     "name": "stdout",
     "output_type": "stream",
     "text": [
      "Epoch [1/50] - Train Loss: 0.3831, Val Loss: 0.5738\n",
      "Epoch 2/50\n"
     ]
    },
    {
     "name": "stderr",
     "output_type": "stream",
     "text": [
      "                                                           \r"
     ]
    },
    {
     "name": "stdout",
     "output_type": "stream",
     "text": [
      "Epoch [2/50] - Train Loss: 0.1373, Val Loss: 0.3240\n",
      "Epoch 3/50\n"
     ]
    },
    {
     "name": "stderr",
     "output_type": "stream",
     "text": [
      "                                                           \r"
     ]
    },
    {
     "name": "stdout",
     "output_type": "stream",
     "text": [
      "Epoch [3/50] - Train Loss: 0.0945, Val Loss: 0.0684\n",
      "Epoch 4/50\n"
     ]
    },
    {
     "name": "stderr",
     "output_type": "stream",
     "text": [
      "                                                           \r"
     ]
    },
    {
     "name": "stdout",
     "output_type": "stream",
     "text": [
      "Epoch [4/50] - Train Loss: 0.0787, Val Loss: 0.0600\n",
      "Epoch 5/50\n"
     ]
    },
    {
     "name": "stderr",
     "output_type": "stream",
     "text": [
      "                                                           \r"
     ]
    },
    {
     "name": "stdout",
     "output_type": "stream",
     "text": [
      "Epoch [5/50] - Train Loss: 0.0652, Val Loss: 0.0760\n",
      "Epoch 6/50\n"
     ]
    },
    {
     "name": "stderr",
     "output_type": "stream",
     "text": [
      "                                                           \r"
     ]
    },
    {
     "name": "stdout",
     "output_type": "stream",
     "text": [
      "Epoch [6/50] - Train Loss: 0.0539, Val Loss: 0.0843\n",
      "Epoch 7/50\n"
     ]
    },
    {
     "name": "stderr",
     "output_type": "stream",
     "text": [
      "                                                           \r"
     ]
    },
    {
     "name": "stdout",
     "output_type": "stream",
     "text": [
      "Epoch [7/50] - Train Loss: 0.0583, Val Loss: 0.0196\n",
      "Epoch 8/50\n"
     ]
    },
    {
     "name": "stderr",
     "output_type": "stream",
     "text": [
      "                                                           \r"
     ]
    },
    {
     "name": "stdout",
     "output_type": "stream",
     "text": [
      "Epoch [8/50] - Train Loss: 0.0512, Val Loss: 0.0817\n",
      "Epoch 9/50\n"
     ]
    },
    {
     "name": "stderr",
     "output_type": "stream",
     "text": [
      "                                                           \r"
     ]
    },
    {
     "name": "stdout",
     "output_type": "stream",
     "text": [
      "Epoch [9/50] - Train Loss: 0.0301, Val Loss: 0.0200\n",
      "Epoch 10/50\n"
     ]
    },
    {
     "name": "stderr",
     "output_type": "stream",
     "text": [
      "                                                           \r"
     ]
    },
    {
     "name": "stdout",
     "output_type": "stream",
     "text": [
      "Epoch [10/50] - Train Loss: 0.0633, Val Loss: 0.0338\n",
      "Epoch 11/50\n"
     ]
    },
    {
     "name": "stderr",
     "output_type": "stream",
     "text": [
      "                                                           \r"
     ]
    },
    {
     "name": "stdout",
     "output_type": "stream",
     "text": [
      "Epoch [11/50] - Train Loss: 0.0526, Val Loss: 0.0692\n",
      "Epoch 12/50\n"
     ]
    },
    {
     "name": "stderr",
     "output_type": "stream",
     "text": [
      "                                                           \r"
     ]
    },
    {
     "name": "stdout",
     "output_type": "stream",
     "text": [
      "Epoch [12/50] - Train Loss: 0.0296, Val Loss: 0.0474\n",
      "Early stopping triggered.\n",
      "Model saved as 'custom_cnn_model_1.pth'\n"
     ]
    }
   ],
   "source": [
    "from tqdm import tqdm  # Import tqdm for progress bars\n",
    "from torch.cuda.amp import autocast, GradScaler  # Import AMP utilities\n",
    "\n",
    "# Set number of epochs and initialize variables\n",
    "num_epochs = 50  # Define the number of training epochs\n",
    "\n",
    "# Use your custom CNN model (model_1) here\n",
    "model_1 = get_transfer_model('resnext101_32x8d', num_classes).to('cuda')  # Using 'model_1' for custom CNN\n",
    "\n",
    "criterion = nn.CrossEntropyLoss()  # Loss function\n",
    "\n",
    "optimizer = optim.Adam(model_1.parameters(), lr=0.001)  # Optimizer with learning rate\n",
    "\n",
    "early_stopping = EarlyStopping(patience=5)  # Initialize early stopping with patience\n",
    "\n",
    "train_losses, val_losses = [], []  # Lists to store training and validation losses per epoch\n",
    "\n",
    "# Initialize GradScaler for AMP\n",
    "scaler = GradScaler()\n",
    "\n",
    "# Loop over epochs\n",
    "for epoch in range(num_epochs):\n",
    "\n",
    "    print(f\"Epoch {epoch+1}/{num_epochs}\")\n",
    "    # Training phase\n",
    "    model_1.train()  # Set model to training mode\n",
    "    train_loss = 0  # Initialize cumulative training loss for the epoch\n",
    "    # Loop over training data with tqdm progress bar\n",
    "    for images, labels in tqdm(train_loader, desc=\"Training\", leave=False):\n",
    "        images, labels = images.to('cuda'), labels.to('cuda')  # Move data to GPU\n",
    "\n",
    "        optimizer.zero_grad()  # Clear previous gradients\n",
    "\n",
    "        with autocast():  # Use AMP for mixed-precision calculations\n",
    "            outputs = model_1(images)  # Forward pass\n",
    "            loss = criterion(outputs, labels)  # Compute loss\n",
    "\n",
    "        # Scale loss to avoid underflow for float16\n",
    "        scaler.scale(loss).backward()  # Backward pass with scaled loss\n",
    "        scaler.step(optimizer)  # Optimizer step\n",
    "        scaler.update()  # Update the scaler for next iteration\n",
    "        train_loss += loss.item()  # Accumulate the training loss\n",
    "\n",
    "    # Validation phase\n",
    "    model_1.eval()  # Set model to evaluation mode\n",
    "    val_loss = 0  # Initialize cumulative validation loss for the epoch\n",
    "    with torch.no_grad():  # Disable gradient calculation for validation\n",
    "        # Loop over validation data with tqdm progress bar\n",
    "        for images, labels in tqdm(val_loader, desc=\"Validation\", leave=False):\n",
    "            images, labels = images.to('cuda'), labels.to('cuda')  # Move data to GPU\n",
    "            with autocast():  # Use AMP for mixed-precision calculations\n",
    "                outputs = model_1(images)  # Forward pass\n",
    "                loss = criterion(outputs, labels)  # Compute loss\n",
    "            val_loss += loss.item()  # Accumulate the validation loss\n",
    "\n",
    "    # Calculate average losses and append to lists\n",
    "    avg_train_loss = train_loss / len(train_loader)\n",
    "    avg_val_loss = val_loss / len(val_loader)\n",
    "    train_losses.append(avg_train_loss)\n",
    "    val_losses.append(avg_val_loss)\n",
    "\n",
    "    print(f\"Epoch [{epoch+1}/{num_epochs}] - Train Loss: {avg_train_loss:.4f}, Val Loss: {avg_val_loss:.4f}\")\n",
    "\n",
    "    # Early stopping check\n",
    "    if early_stopping.check_early_stop(avg_val_loss):\n",
    "        print(\"Early stopping triggered.\")\n",
    "        break\n",
    "\n",
    "# Save the model\n",
    "torch.save(model_1.state_dict(), 'custom_cnn_model_1.pth')  # Save the custom CNN model as 'custom_cnn_model_1.pth'\n",
    "print(\"Model saved as 'custom_cnn_model_1.pth'\")\n"
   ]
  },
  {
   "cell_type": "markdown",
   "id": "81f7ed10",
   "metadata": {
    "papermill": {
     "duration": 0.391499,
     "end_time": "2025-05-12T16:41:24.398583",
     "exception": false,
     "start_time": "2025-05-12T16:41:24.007084",
     "status": "completed"
    },
    "tags": []
   },
   "source": [
    "## Loss Curve for ResNeXt101"
   ]
  },
  {
   "cell_type": "code",
   "execution_count": 17,
   "id": "dce87626",
   "metadata": {
    "execution": {
     "iopub.execute_input": "2025-05-12T16:41:25.238202Z",
     "iopub.status.busy": "2025-05-12T16:41:25.237920Z",
     "iopub.status.idle": "2025-05-12T16:41:25.403497Z",
     "shell.execute_reply": "2025-05-12T16:41:25.402711Z"
    },
    "papermill": {
     "duration": 0.61773,
     "end_time": "2025-05-12T16:41:25.404708",
     "exception": false,
     "start_time": "2025-05-12T16:41:24.786978",
     "status": "completed"
    },
    "tags": []
   },
   "outputs": [
    {
     "data": {
      "image/png": "[encoded data removed]",
      "text/plain": [
       "<Figure size 640x480 with 1 Axes>"
      ]
     },
     "metadata": {},
     "output_type": "display_data"
    }
   ],
   "source": [
    "# Plotting loss curves\n",
    "plt.plot(train_losses, label='Train Loss')\n",
    "plt.plot(val_losses, label='Validation Loss')\n",
    "plt.xlabel('Epoch')\n",
    "plt.ylabel('Loss')\n",
    "plt.legend()\n",
    "plt.title(\"Training and Validation Loss for ResNeXt101\")\n",
    "plt.show()"
   ]
  },
  {
   "cell_type": "markdown",
   "id": "39e0276c",
   "metadata": {
    "papermill": {
     "duration": 0.400738,
     "end_time": "2025-05-12T16:41:26.215462",
     "exception": false,
     "start_time": "2025-05-12T16:41:25.814724",
     "status": "completed"
    },
    "tags": []
   },
   "source": [
    "## Model Evaluation and Metrics Calculation for ResNeXt101"
   ]
  },
  {
   "cell_type": "code",
   "execution_count": 18,
   "id": "fc0da2af",
   "metadata": {
    "execution": {
     "iopub.execute_input": "2025-05-12T16:41:27.048170Z",
     "iopub.status.busy": "2025-05-12T16:41:27.047866Z",
     "iopub.status.idle": "2025-05-12T16:41:51.871936Z",
     "shell.execute_reply": "2025-05-12T16:41:51.871148Z"
    },
    "papermill": {
     "duration": 25.217397,
     "end_time": "2025-05-12T16:41:51.873219",
     "exception": false,
     "start_time": "2025-05-12T16:41:26.655822",
     "status": "completed"
    },
    "tags": []
   },
   "outputs": [
    {
     "name": "stdout",
     "output_type": "stream",
     "text": [
      "Accuracy: 97.65%\n",
      "Precision: 0.9771\n",
      "Recall: 0.9765\n",
      "F1 Score: 0.9764\n"
     ]
    }
   ],
   "source": [
    "from sklearn.metrics import accuracy_score, precision_score, recall_score, f1_score\n",
    "\n",
    "# Move model_1 to evaluation mode\n",
    "model_1.eval()\n",
    "\n",
    "# Initialize lists to store predictions and true labels\n",
    "all_preds = []\n",
    "all_labels = []\n",
    "\n",
    "# Run inference\n",
    "with torch.no_grad():  # Disable gradient calculation for faster inference\n",
    "    for images, labels in test_loader:\n",
    "        # Move images and labels to the same device as the model (GPU)\n",
    "        images, labels = images.to('cuda'), labels.to('cuda')\n",
    "\n",
    "        # Forward pass\n",
    "        outputs = model_1(images)  # Using model_1 for prediction\n",
    "\n",
    "        # Get predictions (choose the class with the highest logit score)\n",
    "        _, predicted = torch.max(outputs, 1)\n",
    "\n",
    "        # Append predictions and true labels to lists\n",
    "        all_preds.extend(predicted.cpu().numpy())  # Move to CPU and convert to numpy\n",
    "        all_labels.extend(labels.cpu().numpy())    # Move to CPU and convert to numpy\n",
    "\n",
    "# Calculate evaluation metrics\n",
    "accuracy = accuracy_score(all_labels, all_preds)\n",
    "precision = precision_score(all_labels, all_preds, average='weighted')\n",
    "recall = recall_score(all_labels, all_preds, average='weighted')\n",
    "f1 = f1_score(all_labels, all_preds, average='weighted')\n",
    "\n",
    "# Print the evaluation metrics\n",
    "print(f\"Accuracy: {accuracy * 100:.2f}%\")\n",
    "print(f\"Precision: {precision:.4f}\")\n",
    "print(f\"Recall: {recall:.4f}\")\n",
    "print(f\"F1 Score: {f1:.4f}\")"
   ]
  },
  {
   "cell_type": "markdown",
   "id": "ac859958",
   "metadata": {
    "papermill": {
     "duration": 0.447249,
     "end_time": "2025-05-12T16:41:52.735774",
     "exception": false,
     "start_time": "2025-05-12T16:41:52.288525",
     "status": "completed"
    },
    "tags": []
   },
   "source": [
    "## Transfer Learning Example using densenet201"
   ]
  },
  {
   "cell_type": "code",
   "execution_count": 19,
   "id": "9d2c1fe0",
   "metadata": {
    "execution": {
     "iopub.execute_input": "2025-05-12T16:41:53.524936Z",
     "iopub.status.busy": "2025-05-12T16:41:53.524646Z",
     "iopub.status.idle": "2025-05-12T17:09:42.089594Z",
     "shell.execute_reply": "2025-05-12T17:09:42.088649Z"
    },
    "papermill": {
     "duration": 1668.960899,
     "end_time": "2025-05-12T17:09:42.090824",
     "exception": false,
     "start_time": "2025-05-12T16:41:53.129925",
     "status": "completed"
    },
    "tags": []
   },
   "outputs": [
    {
     "data": {
      "application/vnd.jupyter.widget-view+json": {
       "model_id": "0238247c3985408987a75459fefda031",
       "version_major": 2,
       "version_minor": 0
      },
      "text/plain": [
       "model.safetensors:   0%|          | 0.00/81.1M [00:00<?, ?B/s]"
      ]
     },
     "metadata": {},
     "output_type": "display_data"
    },
    {
     "name": "stderr",
     "output_type": "stream",
     "text": [
      "/tmp/ipykernel_19/3783741071.py:16: FutureWarning: `torch.cuda.amp.GradScaler(args...)` is deprecated. Please use `torch.amp.GradScaler('cuda', args...)` instead.\n",
      "  scaler = GradScaler()\n"
     ]
    },
    {
     "name": "stdout",
     "output_type": "stream",
     "text": [
      "Epoch 1/50\n"
     ]
    },
    {
     "name": "stderr",
     "output_type": "stream",
     "text": [
      "Training:   0%|          | 0/280 [00:00<?, ?it/s]/tmp/ipykernel_19/3783741071.py:32: FutureWarning: `torch.cuda.amp.autocast(args...)` is deprecated. Please use `torch.amp.autocast('cuda', args...)` instead.\n",
      "  with autocast():  # Use AMP for mixed-precision calculations\n",
      "Validation:   0%|          | 0/80 [00:00<?, ?it/s]/tmp/ipykernel_19/3783741071.py:49: FutureWarning: `torch.cuda.amp.autocast(args...)` is deprecated. Please use `torch.amp.autocast('cuda', args...)` instead.\n",
      "  with autocast():  # Use AMP for mixed-precision calculations\n",
      "                                                           \r"
     ]
    },
    {
     "name": "stdout",
     "output_type": "stream",
     "text": [
      "Epoch [1/50] - Train Loss: 0.2086, Val Loss: 0.0521\n",
      "Epoch 2/50\n"
     ]
    },
    {
     "name": "stderr",
     "output_type": "stream",
     "text": [
      "                                                           \r"
     ]
    },
    {
     "name": "stdout",
     "output_type": "stream",
     "text": [
      "Epoch [2/50] - Train Loss: 0.0804, Val Loss: 0.6847\n",
      "Epoch 3/50\n"
     ]
    },
    {
     "name": "stderr",
     "output_type": "stream",
     "text": [
      "                                                           \r"
     ]
    },
    {
     "name": "stdout",
     "output_type": "stream",
     "text": [
      "Epoch [3/50] - Train Loss: 0.0742, Val Loss: 0.0400\n",
      "Epoch 4/50\n"
     ]
    },
    {
     "name": "stderr",
     "output_type": "stream",
     "text": [
      "                                                           \r"
     ]
    },
    {
     "name": "stdout",
     "output_type": "stream",
     "text": [
      "Epoch [4/50] - Train Loss: 0.0684, Val Loss: 0.3679\n",
      "Epoch 5/50\n"
     ]
    },
    {
     "name": "stderr",
     "output_type": "stream",
     "text": [
      "                                                           \r"
     ]
    },
    {
     "name": "stdout",
     "output_type": "stream",
     "text": [
      "Epoch [5/50] - Train Loss: 0.0382, Val Loss: 0.0534\n",
      "Epoch 6/50\n"
     ]
    },
    {
     "name": "stderr",
     "output_type": "stream",
     "text": [
      "                                                           \r"
     ]
    },
    {
     "name": "stdout",
     "output_type": "stream",
     "text": [
      "Epoch [6/50] - Train Loss: 0.0206, Val Loss: 0.0181\n",
      "Epoch 7/50\n"
     ]
    },
    {
     "name": "stderr",
     "output_type": "stream",
     "text": [
      "                                                           \r"
     ]
    },
    {
     "name": "stdout",
     "output_type": "stream",
     "text": [
      "Epoch [7/50] - Train Loss: 0.0702, Val Loss: 0.3840\n",
      "Epoch 8/50\n"
     ]
    },
    {
     "name": "stderr",
     "output_type": "stream",
     "text": [
      "                                                           \r"
     ]
    },
    {
     "name": "stdout",
     "output_type": "stream",
     "text": [
      "Epoch [8/50] - Train Loss: 0.0512, Val Loss: 0.0233\n",
      "Epoch 9/50\n"
     ]
    },
    {
     "name": "stderr",
     "output_type": "stream",
     "text": [
      "                                                           \r"
     ]
    },
    {
     "name": "stdout",
     "output_type": "stream",
     "text": [
      "Epoch [9/50] - Train Loss: 0.0361, Val Loss: 0.0203\n",
      "Epoch 10/50\n"
     ]
    },
    {
     "name": "stderr",
     "output_type": "stream",
     "text": [
      "                                                           \r"
     ]
    },
    {
     "name": "stdout",
     "output_type": "stream",
     "text": [
      "Epoch [10/50] - Train Loss: 0.0253, Val Loss: 0.0567\n",
      "Epoch 11/50\n"
     ]
    },
    {
     "name": "stderr",
     "output_type": "stream",
     "text": [
      "                                                           "
     ]
    },
    {
     "name": "stdout",
     "output_type": "stream",
     "text": [
      "Epoch [11/50] - Train Loss: 0.0268, Val Loss: 0.0267\n",
      "Early stopping triggered.\n",
      "Model saved as 'densenet201_model_2.pth'\n"
     ]
    },
    {
     "name": "stderr",
     "output_type": "stream",
     "text": [
      "\r"
     ]
    }
   ],
   "source": [
    "# Set number of epochs and initialize variables\n",
    "num_epochs = 50  # Define the number of training epochs\n",
    "\n",
    "# Initialize the DenseNet201 transfer learning model\n",
    "model_2 = get_transfer_model('densenet201', num_classes).to('cuda')  # Using 'model_2' for DenseNet201\n",
    "\n",
    "criterion = nn.CrossEntropyLoss()  # Loss function\n",
    "\n",
    "optimizer = optim.Adam(model_2.parameters(), lr=0.001)  # Optimizer with learning rate\n",
    "\n",
    "early_stopping = EarlyStopping(patience=5)  # Initialize early stopping with patience\n",
    "\n",
    "train_losses, val_losses = [], []  # Lists to store training and validation losses per epoch\n",
    "\n",
    "# Initialize GradScaler for AMP\n",
    "scaler = GradScaler()\n",
    "\n",
    "# Loop over epochs\n",
    "for epoch in range(num_epochs):\n",
    "\n",
    "    print(f\"Epoch {epoch+1}/{num_epochs}\")\n",
    "    # Training phase\n",
    "    model_2.train()  # Set model to training mode\n",
    "    train_loss = 0  # Initialize cumulative training loss for the epoch\n",
    "    \n",
    "    # Loop over training data with tqdm progress bar\n",
    "    for images, labels in tqdm(train_loader, desc=\"Training\", leave=False):\n",
    "        images, labels = images.to('cuda'), labels.to('cuda')  # Move data to GPU\n",
    "\n",
    "        optimizer.zero_grad()  # Clear previous gradients\n",
    "\n",
    "        with autocast():  # Use AMP for mixed-precision calculations\n",
    "            outputs = model_2(images)  # Forward pass\n",
    "            loss = criterion(outputs, labels)  # Compute loss\n",
    "\n",
    "        # Scale loss to avoid underflow for float16\n",
    "        scaler.scale(loss).backward()  # Backward pass with scaled loss\n",
    "        scaler.step(optimizer)  # Optimizer step\n",
    "        scaler.update()  # Update the scaler for next iteration\n",
    "        train_loss += loss.item()  # Accumulate the training loss\n",
    "\n",
    "    # Validation phase\n",
    "    model_2.eval()  # Set model to evaluation mode\n",
    "    val_loss = 0  # Initialize cumulative validation loss for the epoch\n",
    "    with torch.no_grad():  # Disable gradient calculation for validation\n",
    "        # Loop over validation data with tqdm progress bar\n",
    "        for images, labels in tqdm(val_loader, desc=\"Validation\", leave=False):\n",
    "            images, labels = images.to('cuda'), labels.to('cuda')  # Move data to GPU\n",
    "            with autocast():  # Use AMP for mixed-precision calculations\n",
    "                outputs = model_2(images)  # Forward pass\n",
    "                loss = criterion(outputs, labels)  # Compute loss\n",
    "            val_loss += loss.item()  # Accumulate the validation loss\n",
    "\n",
    "    # Calculate average losses and append to lists\n",
    "    avg_train_loss = train_loss / len(train_loader)\n",
    "    avg_val_loss = val_loss / len(val_loader)\n",
    "    train_losses.append(avg_train_loss)\n",
    "    val_losses.append(avg_val_loss)\n",
    "\n",
    "    print(f\"Epoch [{epoch+1}/{num_epochs}] - Train Loss: {avg_train_loss:.4f}, Val Loss: {avg_val_loss:.4f}\")\n",
    "\n",
    "    # Early stopping check\n",
    "    if early_stopping.check_early_stop(avg_val_loss):\n",
    "        print(\"Early stopping triggered.\")\n",
    "        break\n",
    "\n",
    "# Save the model\n",
    "torch.save(model_2.state_dict(), 'densenet201_model_2.pth')  # Save the DenseNet201 model as 'densenet201_model_2.pth'\n",
    "print(\"Model saved as 'densenet201_model_2.pth'\")\n"
   ]
  },
  {
   "cell_type": "markdown",
   "id": "826febb4",
   "metadata": {
    "papermill": {
     "duration": 0.60724,
     "end_time": "2025-05-12T17:09:43.248918",
     "exception": false,
     "start_time": "2025-05-12T17:09:42.641678",
     "status": "completed"
    },
    "tags": []
   },
   "source": [
    "## Loss Curve for densenet201"
   ]
  },
  {
   "cell_type": "code",
   "execution_count": 20,
   "id": "e235a3ef",
   "metadata": {
    "execution": {
     "iopub.execute_input": "2025-05-12T17:09:44.409069Z",
     "iopub.status.busy": "2025-05-12T17:09:44.408645Z",
     "iopub.status.idle": "2025-05-12T17:09:44.584677Z",
     "shell.execute_reply": "2025-05-12T17:09:44.583933Z"
    },
    "papermill": {
     "duration": 0.788583,
     "end_time": "2025-05-12T17:09:44.585897",
     "exception": false,
     "start_time": "2025-05-12T17:09:43.797314",
     "status": "completed"
    },
    "tags": []
   },
   "outputs": [
    {
     "data": {
      "image/png": "[encoded data removed]",
      "text/plain": [
       "<Figure size 640x480 with 1 Axes>"
      ]
     },
     "metadata": {},
     "output_type": "display_data"
    }
   ],
   "source": [
    "# Plotting loss curves\n",
    "plt.plot(train_losses, label='Train Loss')\n",
    "plt.plot(val_losses, label='Validation Loss')\n",
    "plt.xlabel('Epoch')\n",
    "plt.ylabel('Loss')\n",
    "plt.legend()\n",
    "plt.title(\"Training and Validation Loss for densenet201\")\n",
    "plt.show()"
   ]
  },
  {
   "cell_type": "markdown",
   "id": "01504225",
   "metadata": {
    "papermill": {
     "duration": 0.625861,
     "end_time": "2025-05-12T17:09:45.788274",
     "exception": false,
     "start_time": "2025-05-12T17:09:45.162413",
     "status": "completed"
    },
    "tags": []
   },
   "source": [
    "##  Model Evaluation and Metrics Calculation for densenet201"
   ]
  },
  {
   "cell_type": "code",
   "execution_count": 21,
   "id": "88c5924e",
   "metadata": {
    "execution": {
     "iopub.execute_input": "2025-05-12T17:09:46.942294Z",
     "iopub.status.busy": "2025-05-12T17:09:46.941574Z",
     "iopub.status.idle": "2025-05-12T17:10:01.602892Z",
     "shell.execute_reply": "2025-05-12T17:10:01.601914Z"
    },
    "papermill": {
     "duration": 15.269919,
     "end_time": "2025-05-12T17:10:01.604887",
     "exception": false,
     "start_time": "2025-05-12T17:09:46.334968",
     "status": "completed"
    },
    "tags": []
   },
   "outputs": [
    {
     "name": "stdout",
     "output_type": "stream",
     "text": [
      "Accuracy: 98.75%\n",
      "Precision: 0.9875\n",
      "Recall: 0.9875\n",
      "F1 Score: 0.9875\n"
     ]
    }
   ],
   "source": [
    "from sklearn.metrics import accuracy_score, precision_score, recall_score, f1_score\n",
    "\n",
    "# Move model_2 to evaluation mode\n",
    "model_2.eval()\n",
    "\n",
    "# Initialize lists to store predictions and true labels\n",
    "all_preds = []\n",
    "all_labels = []\n",
    "\n",
    "# Run inference\n",
    "with torch.no_grad():  # Disable gradient calculation for faster inference\n",
    "    for images, labels in test_loader:\n",
    "        # Move images and labels to the same device as the model (GPU)\n",
    "        images, labels = images.to('cuda'), labels.to('cuda')\n",
    "\n",
    "        # Forward pass\n",
    "        outputs = model_2(images)  # Using model_2 for prediction\n",
    "\n",
    "        # Get predictions (choose the class with the highest logit score)\n",
    "        _, predicted = torch.max(outputs, 1)\n",
    "\n",
    "        # Append predictions and true labels to lists\n",
    "        all_preds.extend(predicted.cpu().numpy())  # Move to CPU and convert to numpy\n",
    "        all_labels.extend(labels.cpu().numpy())    # Move to CPU and convert to numpy\n",
    "\n",
    "# Calculate evaluation metrics\n",
    "accuracy = accuracy_score(all_labels, all_preds)\n",
    "precision = precision_score(all_labels, all_preds, average='weighted')\n",
    "recall = recall_score(all_labels, all_preds, average='weighted')\n",
    "f1 = f1_score(all_labels, all_preds, average='weighted')\n",
    "\n",
    "# Print the evaluation metrics\n",
    "print(f\"Accuracy: {accuracy * 100:.2f}%\")\n",
    "print(f\"Precision: {precision:.4f}\")\n",
    "print(f\"Recall: {recall:.4f}\")\n",
    "print(f\"F1 Score: {f1:.4f}\")"
   ]
  }
 ],
 "metadata": {
  "kaggle": {
   "accelerator": "nvidiaTeslaT4",
   "dataSources": [
    {
     "datasetId": 7353383,
     "sourceId": 11714811,
     "sourceType": "datasetVersion"
    }
   ],
   "dockerImageVersionId": 31011,
   "isGpuEnabled": true,
   "isInternetEnabled": true,
   "language": "python",
   "sourceType": "notebook"
  },
  "kernelspec": {
   "display_name": "Python 3",
   "language": "python",
   "name": "python3"
  },
  "language_info": {
   "codemirror_mode": {
    "name": "ipython",
    "version": 3
   },
   "file_extension": ".py",
   "mimetype": "text/x-python",
   "name": "python",
   "nbconvert_exporter": "python",
   "pygments_lexer": "ipython3",
   "version": "3.11.11"
  },
  "papermill": {
   "default_parameters": {},
   "duration": 5828.121539,
   "end_time": "2025-05-12T17:10:03.960577",
   "environment_variables": {},
   "exception": null,
   "input_path": "__notebook__.ipynb",
   "output_path": "__notebook__.ipynb",
   "parameters": {},
   "start_time": "2025-05-12T15:32:55.839038",
   "version": "2.6.0"
  },
  "widgets": {
   "application/vnd.jupyter.widget-state+json": {
    "state": {
     "01db1725f7f64e06b7c029077e6409ff": {
      "model_module": "@jupyter-widgets/base",
      "model_module_version": "2.0.0",
      "model_name": "LayoutModel",
      "state": {
       "_model_module": "@jupyter-widgets/base",
       "_model_module_version": "2.0.0",
       "_model_name": "LayoutModel",
       "_view_count": null,
       "_view_module": "@jupyter-widgets/base",
       "_view_module_version": "2.0.0",
       "_view_name": "LayoutView",
       "align_content": null,
       "align_items": null,
       "align_self": null,
       "border_bottom": null,
       "border_left": null,
       "border_right": null,
       "border_top": null,
       "bottom": null,
       "display": null,
       "flex": null,
       "flex_flow": null,
       "grid_area": null,
       "grid_auto_columns": null,
       "grid_auto_flow": null,
       "grid_auto_rows": null,
       "grid_column": null,
       "grid_gap": null,
       "grid_row": null,
       "grid_template_areas": null,
       "grid_template_columns": null,
       "grid_template_rows": null,
       "height": null,
       "justify_content": null,
       "justify_items": null,
       "left": null,
       "margin": null,
       "max_height": null,
       "max_width": null,
       "min_height": null,
       "min_width": null,
       "object_fit": null,
       "object_position": null,
       "order": null,
       "overflow": null,
       "padding": null,
       "right": null,
       "top": null,
       "visibility": null,
       "width": null
      }
     },
     "0238247c3985408987a75459fefda031": {
      "model_module": "@jupyter-widgets/controls",
      "model_module_version": "2.0.0",
      "model_name": "HBoxModel",
      "state": {
       "_dom_classes": [],
       "_model_module": "@jupyter-widgets/controls",
       "_model_module_version": "2.0.0",
       "_model_name": "HBoxModel",
       "_view_count": null,
       "_view_module": "@jupyter-widgets/controls",
       "_view_module_version": "2.0.0",
       "_view_name": "HBoxView",
       "box_style": "",
       "children": [
        "IPY_MODEL_ba6ee273314d47979d947a4e624fa0f8",
        "IPY_MODEL_55a0354b7f4742f7a02105a209424df6",
        "IPY_MODEL_6babf79bff6445adbcc551d3978dc58a"
       ],
       "layout": "IPY_MODEL_01db1725f7f64e06b7c029077e6409ff",
       "tabbable": null,
       "tooltip": null
      }
     },
     "038189ce7f52458ebb4120fc2a7fba54": {
      "model_module": "@jupyter-widgets/controls",
      "model_module_version": "2.0.0",
      "model_name": "ProgressStyleModel",
      "state": {
       "_model_module": "@jupyter-widgets/controls",
       "_model_module_version": "2.0.0",
       "_model_name": "ProgressStyleModel",
       "_view_count": null,
       "_view_module": "@jupyter-widgets/base",
       "_view_module_version": "2.0.0",
       "_view_name": "StyleView",
       "bar_color": null,
       "description_width": ""
      }
     },
     "24db3d0ef135489a885731d5f7789d1e": {
      "model_module": "@jupyter-widgets/base",
      "model_module_version": "2.0.0",
      "model_name": "LayoutModel",
      "state": {
       "_model_module": "@jupyter-widgets/base",
       "_model_module_version": "2.0.0",
       "_model_name": "LayoutModel",
       "_view_count": null,
       "_view_module": "@jupyter-widgets/base",
       "_view_module_version": "2.0.0",
       "_view_name": "LayoutView",
       "align_content": null,
       "align_items": null,
       "align_self": null,
       "border_bottom": null,
       "border_left": null,
       "border_right": null,
       "border_top": null,
       "bottom": null,
       "display": null,
       "flex": null,
       "flex_flow": null,
       "grid_area": null,
       "grid_auto_columns": null,
       "grid_auto_flow": null,
       "grid_auto_rows": null,
       "grid_column": null,
       "grid_gap": null,
       "grid_row": null,
       "grid_template_areas": null,
       "grid_template_columns": null,
       "grid_template_rows": null,
       "height": null,
       "justify_content": null,
       "justify_items": null,
       "left": null,
       "margin": null,
       "max_height": null,
       "max_width": null,
       "min_height": null,
       "min_width": null,
       "object_fit": null,
       "object_position": null,
       "order": null,
       "overflow": null,
       "padding": null,
       "right": null,
       "top": null,
       "visibility": null,
       "width": null
      }
     },
     "266804964524409eb9102a416f92aa84": {
      "model_module": "@jupyter-widgets/controls",
      "model_module_version": "2.0.0",
      "model_name": "HBoxModel",
      "state": {
       "_dom_classes": [],
       "_model_module": "@jupyter-widgets/controls",
       "_model_module_version": "2.0.0",
       "_model_name": "HBoxModel",
       "_view_count": null,
       "_view_module": "@jupyter-widgets/controls",
       "_view_module_version": "2.0.0",
       "_view_name": "HBoxView",
       "box_style": "",
       "children": [
        "IPY_MODEL_e77365e024fd4db6a6f2150eb2e6adbe",
        "IPY_MODEL_7f380caca152456ebc2f4baf4542f8fb",
        "IPY_MODEL_39ca886a11de4dd1ab2c7c8a6cf5cc21"
       ],
       "layout": "IPY_MODEL_9568a7bf41c04c0fa700b41ae248b8fa",
       "tabbable": null,
       "tooltip": null
      }
     },
     "366cdcb1e61a4af9b1cedd3d422614ce": {
      "model_module": "@jupyter-widgets/controls",
      "model_module_version": "2.0.0",
      "model_name": "HTMLStyleModel",
      "state": {
       "_model_module": "@jupyter-widgets/controls",
       "_model_module_version": "2.0.0",
       "_model_name": "HTMLStyleModel",
       "_view_count": null,
       "_view_module": "@jupyter-widgets/base",
       "_view_module_version": "2.0.0",
       "_view_name": "StyleView",
       "background": null,
       "description_width": "",
       "font_size": null,
       "text_color": null
      }
     },
     "368294eb87fc4a8d861b34da63ce3606": {
      "model_module": "@jupyter-widgets/base",
      "model_module_version": "2.0.0",
      "model_name": "LayoutModel",
      "state": {
       "_model_module": "@jupyter-widgets/base",
       "_model_module_version": "2.0.0",
       "_model_name": "LayoutModel",
       "_view_count": null,
       "_view_module": "@jupyter-widgets/base",
       "_view_module_version": "2.0.0",
       "_view_name": "LayoutView",
       "align_content": null,
       "align_items": null,
       "align_self": null,
       "border_bottom": null,
       "border_left": null,
       "border_right": null,
       "border_top": null,
       "bottom": null,
       "display": null,
       "flex": null,
       "flex_flow": null,
       "grid_area": null,
       "grid_auto_columns": null,
       "grid_auto_flow": null,
       "grid_auto_rows": null,
       "grid_column": null,
       "grid_gap": null,
       "grid_row": null,
       "grid_template_areas": null,
       "grid_template_columns": null,
       "grid_template_rows": null,
       "height": null,
       "justify_content": null,
       "justify_items": null,
       "left": null,
       "margin": null,
       "max_height": null,
       "max_width": null,
       "min_height": null,
       "min_width": null,
       "object_fit": null,
       "object_position": null,
       "order": null,
       "overflow": null,
       "padding": null,
       "right": null,
       "top": null,
       "visibility": null,
       "width": null
      }
     },
     "39ca886a11de4dd1ab2c7c8a6cf5cc21": {
      "model_module": "@jupyter-widgets/controls",
      "model_module_version": "2.0.0",
      "model_name": "HTMLModel",
      "state": {
       "_dom_classes": [],
       "_model_module": "@jupyter-widgets/controls",
       "_model_module_version": "2.0.0",
       "_model_name": "HTMLModel",
       "_view_count": null,
       "_view_module": "@jupyter-widgets/controls",
       "_view_module_version": "2.0.0",
       "_view_name": "HTMLView",
       "description": "",
       "description_allow_html": false,
       "layout": "IPY_MODEL_edf5e1a9d3184e2cb394f326a159a632",
       "placeholder": "​",
       "style": "IPY_MODEL_366cdcb1e61a4af9b1cedd3d422614ce",
       "tabbable": null,
       "tooltip": null,
       "value": " 356M/356M [00:01&lt;00:00, 271MB/s]"
      }
     },
     "43c3064a2f7444c2a501cc1ad70656bb": {
      "model_module": "@jupyter-widgets/controls",
      "model_module_version": "2.0.0",
      "model_name": "ProgressStyleModel",
      "state": {
       "_model_module": "@jupyter-widgets/controls",
       "_model_module_version": "2.0.0",
       "_model_name": "ProgressStyleModel",
       "_view_count": null,
       "_view_module": "@jupyter-widgets/base",
       "_view_module_version": "2.0.0",
       "_view_name": "StyleView",
       "bar_color": null,
       "description_width": ""
      }
     },
     "55a0354b7f4742f7a02105a209424df6": {
      "model_module": "@jupyter-widgets/controls",
      "model_module_version": "2.0.0",
      "model_name": "FloatProgressModel",
      "state": {
       "_dom_classes": [],
       "_model_module": "@jupyter-widgets/controls",
       "_model_module_version": "2.0.0",
       "_model_name": "FloatProgressModel",
       "_view_count": null,
       "_view_module": "@jupyter-widgets/controls",
       "_view_module_version": "2.0.0",
       "_view_name": "ProgressView",
       "bar_style": "success",
       "description": "",
       "description_allow_html": false,
       "layout": "IPY_MODEL_8c6e511652d645d192ee6effd481a4b6",
       "max": 81113690.0,
       "min": 0.0,
       "orientation": "horizontal",
       "style": "IPY_MODEL_43c3064a2f7444c2a501cc1ad70656bb",
       "tabbable": null,
       "tooltip": null,
       "value": 81113690.0
      }
     },
     "6044c2e58872477d9f3940b2c6da70b8": {
      "model_module": "@jupyter-widgets/base",
      "model_module_version": "2.0.0",
      "model_name": "LayoutModel",
      "state": {
       "_model_module": "@jupyter-widgets/base",
       "_model_module_version": "2.0.0",
       "_model_name": "LayoutModel",
       "_view_count": null,
       "_view_module": "@jupyter-widgets/base",
       "_view_module_version": "2.0.0",
       "_view_name": "LayoutView",
       "align_content": null,
       "align_items": null,
       "align_self": null,
       "border_bottom": null,
       "border_left": null,
       "border_right": null,
       "border_top": null,
       "bottom": null,
       "display": null,
       "flex": null,
       "flex_flow": null,
       "grid_area": null,
       "grid_auto_columns": null,
       "grid_auto_flow": null,
       "grid_auto_rows": null,
       "grid_column": null,
       "grid_gap": null,
       "grid_row": null,
       "grid_template_areas": null,
       "grid_template_columns": null,
       "grid_template_rows": null,
       "height": null,
       "justify_content": null,
       "justify_items": null,
       "left": null,
       "margin": null,
       "max_height": null,
       "max_width": null,
       "min_height": null,
       "min_width": null,
       "object_fit": null,
       "object_position": null,
       "order": null,
       "overflow": null,
       "padding": null,
       "right": null,
       "top": null,
       "visibility": null,
       "width": null
      }
     },
     "6babf79bff6445adbcc551d3978dc58a": {
      "model_module": "@jupyter-widgets/controls",
      "model_module_version": "2.0.0",
      "model_name": "HTMLModel",
      "state": {
       "_dom_classes": [],
       "_model_module": "@jupyter-widgets/controls",
       "_model_module_version": "2.0.0",
       "_model_name": "HTMLModel",
       "_view_count": null,
       "_view_module": "@jupyter-widgets/controls",
       "_view_module_version": "2.0.0",
       "_view_name": "HTMLView",
       "description": "",
       "description_allow_html": false,
       "layout": "IPY_MODEL_6044c2e58872477d9f3940b2c6da70b8",
       "placeholder": "​",
       "style": "IPY_MODEL_cf1f0d29d3224ee8b45e6ca5b7d987ea",
       "tabbable": null,
       "tooltip": null,
       "value": " 81.1M/81.1M [00:00&lt;00:00, 233MB/s]"
      }
     },
     "7f380caca152456ebc2f4baf4542f8fb": {
      "model_module": "@jupyter-widgets/controls",
      "model_module_version": "2.0.0",
      "model_name": "FloatProgressModel",
      "state": {
       "_dom_classes": [],
       "_model_module": "@jupyter-widgets/controls",
       "_model_module_version": "2.0.0",
       "_model_name": "FloatProgressModel",
       "_view_count": null,
       "_view_module": "@jupyter-widgets/controls",
       "_view_module_version": "2.0.0",
       "_view_name": "ProgressView",
       "bar_style": "success",
       "description": "",
       "description_allow_html": false,
       "layout": "IPY_MODEL_24db3d0ef135489a885731d5f7789d1e",
       "max": 356035250.0,
       "min": 0.0,
       "orientation": "horizontal",
       "style": "IPY_MODEL_038189ce7f52458ebb4120fc2a7fba54",
       "tabbable": null,
       "tooltip": null,
       "value": 356035250.0
      }
     },
     "898cb45094f248318af1d0043e3493c9": {
      "model_module": "@jupyter-widgets/controls",
      "model_module_version": "2.0.0",
      "model_name": "HTMLStyleModel",
      "state": {
       "_model_module": "@jupyter-widgets/controls",
       "_model_module_version": "2.0.0",
       "_model_name": "HTMLStyleModel",
       "_view_count": null,
       "_view_module": "@jupyter-widgets/base",
       "_view_module_version": "2.0.0",
       "_view_name": "StyleView",
       "background": null,
       "description_width": "",
       "font_size": null,
       "text_color": null
      }
     },
     "8c6e511652d645d192ee6effd481a4b6": {
      "model_module": "@jupyter-widgets/base",
      "model_module_version": "2.0.0",
      "model_name": "LayoutModel",
      "state": {
       "_model_module": "@jupyter-widgets/base",
       "_model_module_version": "2.0.0",
       "_model_name": "LayoutModel",
       "_view_count": null,
       "_view_module": "@jupyter-widgets/base",
       "_view_module_version": "2.0.0",
       "_view_name": "LayoutView",
       "align_content": null,
       "align_items": null,
       "align_self": null,
       "border_bottom": null,
       "border_left": null,
       "border_right": null,
       "border_top": null,
       "bottom": null,
       "display": null,
       "flex": null,
       "flex_flow": null,
       "grid_area": null,
       "grid_auto_columns": null,
       "grid_auto_flow": null,
       "grid_auto_rows": null,
       "grid_column": null,
       "grid_gap": null,
       "grid_row": null,
       "grid_template_areas": null,
       "grid_template_columns": null,
       "grid_template_rows": null,
       "height": null,
       "justify_content": null,
       "justify_items": null,
       "left": null,
       "margin": null,
       "max_height": null,
       "max_width": null,
       "min_height": null,
       "min_width": null,
       "object_fit": null,
       "object_position": null,
       "order": null,
       "overflow": null,
       "padding": null,
       "right": null,
       "top": null,
       "visibility": null,
       "width": null
      }
     },
     "8f5725d88fa5495082d8734d7d1d77b5": {
      "model_module": "@jupyter-widgets/controls",
      "model_module_version": "2.0.0",
      "model_name": "HTMLStyleModel",
      "state": {
       "_model_module": "@jupyter-widgets/controls",
       "_model_module_version": "2.0.0",
       "_model_name": "HTMLStyleModel",
       "_view_count": null,
       "_view_module": "@jupyter-widgets/base",
       "_view_module_version": "2.0.0",
       "_view_name": "StyleView",
       "background": null,
       "description_width": "",
       "font_size": null,
       "text_color": null
      }
     },
     "9568a7bf41c04c0fa700b41ae248b8fa": {
      "model_module": "@jupyter-widgets/base",
      "model_module_version": "2.0.0",
      "model_name": "LayoutModel",
      "state": {
       "_model_module": "@jupyter-widgets/base",
       "_model_module_version": "2.0.0",
       "_model_name": "LayoutModel",
       "_view_count": null,
       "_view_module": "@jupyter-widgets/base",
       "_view_module_version": "2.0.0",
       "_view_name": "LayoutView",
       "align_content": null,
       "align_items": null,
       "align_self": null,
       "border_bottom": null,
       "border_left": null,
       "border_right": null,
       "border_top": null,
       "bottom": null,
       "display": null,
       "flex": null,
       "flex_flow": null,
       "grid_area": null,
       "grid_auto_columns": null,
       "grid_auto_flow": null,
       "grid_auto_rows": null,
       "grid_column": null,
       "grid_gap": null,
       "grid_row": null,
       "grid_template_areas": null,
       "grid_template_columns": null,
       "grid_template_rows": null,
       "height": null,
       "justify_content": null,
       "justify_items": null,
       "left": null,
       "margin": null,
       "max_height": null,
       "max_width": null,
       "min_height": null,
       "min_width": null,
       "object_fit": null,
       "object_position": null,
       "order": null,
       "overflow": null,
       "padding": null,
       "right": null,
       "top": null,
       "visibility": null,
       "width": null
      }
     },
     "ba6ee273314d47979d947a4e624fa0f8": {
      "model_module": "@jupyter-widgets/controls",
      "model_module_version": "2.0.0",
      "model_name": "HTMLModel",
      "state": {
       "_dom_classes": [],
       "_model_module": "@jupyter-widgets/controls",
       "_model_module_version": "2.0.0",
       "_model_name": "HTMLModel",
       "_view_count": null,
       "_view_module": "@jupyter-widgets/controls",
       "_view_module_version": "2.0.0",
       "_view_name": "HTMLView",
       "description": "",
       "description_allow_html": false,
       "layout": "IPY_MODEL_c82cafe8ad77478a91ecf7581afc6887",
       "placeholder": "​",
       "style": "IPY_MODEL_8f5725d88fa5495082d8734d7d1d77b5",
       "tabbable": null,
       "tooltip": null,
       "value": "model.safetensors: 100%"
      }
     },
     "c82cafe8ad77478a91ecf7581afc6887": {
      "model_module": "@jupyter-widgets/base",
      "model_module_version": "2.0.0",
      "model_name": "LayoutModel",
      "state": {
       "_model_module": "@jupyter-widgets/base",
       "_model_module_version": "2.0.0",
       "_model_name": "LayoutModel",
       "_view_count": null,
       "_view_module": "@jupyter-widgets/base",
       "_view_module_version": "2.0.0",
       "_view_name": "LayoutView",
       "align_content": null,
       "align_items": null,
       "align_self": null,
       "border_bottom": null,
       "border_left": null,
       "border_right": null,
       "border_top": null,
       "bottom": null,
       "display": null,
       "flex": null,
       "flex_flow": null,
       "grid_area": null,
       "grid_auto_columns": null,
       "grid_auto_flow": null,
       "grid_auto_rows": null,
       "grid_column": null,
       "grid_gap": null,
       "grid_row": null,
       "grid_template_areas": null,
       "grid_template_columns": null,
       "grid_template_rows": null,
       "height": null,
       "justify_content": null,
       "justify_items": null,
       "left": null,
       "margin": null,
       "max_height": null,
       "max_width": null,
       "min_height": null,
       "min_width": null,
       "object_fit": null,
       "object_position": null,
       "order": null,
       "overflow": null,
       "padding": null,
       "right": null,
       "top": null,
       "visibility": null,
       "width": null
      }
     },
     "cf1f0d29d3224ee8b45e6ca5b7d987ea": {
      "model_module": "@jupyter-widgets/controls",
      "model_module_version": "2.0.0",
      "model_name": "HTMLStyleModel",
      "state": {
       "_model_module": "@jupyter-widgets/controls",
       "_model_module_version": "2.0.0",
       "_model_name": "HTMLStyleModel",
       "_view_count": null,
       "_view_module": "@jupyter-widgets/base",
       "_view_module_version": "2.0.0",
       "_view_name": "StyleView",
       "background": null,
       "description_width": "",
       "font_size": null,
       "text_color": null
      }
     },
     "e77365e024fd4db6a6f2150eb2e6adbe": {
      "model_module": "@jupyter-widgets/controls",
      "model_module_version": "2.0.0",
      "model_name": "HTMLModel",
      "state": {
       "_dom_classes": [],
       "_model_module": "@jupyter-widgets/controls",
       "_model_module_version": "2.0.0",
       "_model_name": "HTMLModel",
       "_view_count": null,
       "_view_module": "@jupyter-widgets/controls",
       "_view_module_version": "2.0.0",
       "_view_name": "HTMLView",
       "description": "",
       "description_allow_html": false,
       "layout": "IPY_MODEL_368294eb87fc4a8d861b34da63ce3606",
       "placeholder": "​",
       "style": "IPY_MODEL_898cb45094f248318af1d0043e3493c9",
       "tabbable": null,
       "tooltip": null,
       "value": "model.safetensors: 100%"
      }
     },
     "edf5e1a9d3184e2cb394f326a159a632": {
      "model_module": "@jupyter-widgets/base",
      "model_module_version": "2.0.0",
      "model_name": "LayoutModel",
      "state": {
       "_model_module": "@jupyter-widgets/base",
       "_model_module_version": "2.0.0",
       "_model_name": "LayoutModel",
       "_view_count": null,
       "_view_module": "@jupyter-widgets/base",
       "_view_module_version": "2.0.0",
       "_view_name": "LayoutView",
       "align_content": null,
       "align_items": null,
       "align_self": null,
       "border_bottom": null,
       "border_left": null,
       "border_right": null,
       "border_top": null,
       "bottom": null,
       "display": null,
       "flex": null,
       "flex_flow": null,
       "grid_area": null,
       "grid_auto_columns": null,
       "grid_auto_flow": null,
       "grid_auto_rows": null,
       "grid_column": null,
       "grid_gap": null,
       "grid_row": null,
       "grid_template_areas": null,
       "grid_template_columns": null,
       "grid_template_rows": null,
       "height": null,
       "justify_content": null,
       "justify_items": null,
       "left": null,
       "margin": null,
       "max_height": null,
       "max_width": null,
       "min_height": null,
       "min_width": null,
       "object_fit": null,
       "object_position": null,
       "order": null,
       "overflow": null,
       "padding": null,
       "right": null,
       "top": null,
       "visibility": null,
       "width": null
      }
     }
    },
    "version_major": 2,
    "version_minor": 0
   }
  }
 },
 "nbformat": 4,
 "nbformat_minor": 5
}
